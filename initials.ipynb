{
 "cells": [
  {
   "cell_type": "code",
   "execution_count": 3,
   "metadata": {},
   "outputs": [
    {
     "name": "stdout",
     "output_type": "stream",
     "text": [
      "Requirement already satisfied: neo4j in c:\\balkanid\\.venv\\lib\\site-packages (5.11.0)\n",
      "Requirement already satisfied: pytz in c:\\balkanid\\.venv\\lib\\site-packages (from neo4j) (2023.3)\n"
     ]
    }
   ],
   "source": [
    "# !pip install neo4j\n",
    "# !pip install torch_geometric\n",
    "# !pip install networkx\n",
    "# !pip install torch"
   ]
  },
  {
   "cell_type": "code",
   "execution_count": 14,
   "metadata": {},
   "outputs": [
    {
     "name": "stdout",
     "output_type": "stream",
     "text": [
      "[<Record numAuthors=347>]\n",
      "[<Record numCoAuthorships=2519>]\n",
      "[<Record networkDensity=2.2880886680120627e-06>]\n",
      "[<Record averageDegree=8.178571428571427>]\n",
      "[<Record a=<Node element_id='4:90d4a046-c6c5-4c79-987b-3b140a0d4b7c:15' labels=frozenset({'Author'}) properties={'Feature140': '0', 'Feature146': '0', 'Feature145': '0', 'Feature148': '0', 'Feature147': '0', 'Feature90': '0', 'Feature142': '0', 'Feature141': '0', 'Feature92': '0', 'Feature144': '0', 'Feature143': '0', 'Feature91': '0', 'Feature94': '0', 'Feature93': '0', 'Feature96': '0', 'Feature95': '0', 'Feature98': '0', 'Feature139': '0', 'Feature138': '0', 'Feature97': '0', 'Feature99': '0', 'Feature151': '0', 'Feature150': '0', 'Feature157': '0', 'Feature156': '0', 'Feature159': '0', 'Feature158': '0', 'Feature153': '0', 'Feature152': '0', 'Feature81': '0', 'Feature155': '0', 'Feature80': '0', 'Feature154': '0', 'Feature83': '0', 'Feature82': '0', 'Feature85': '0', 'Feature84': '0', 'Feature87': '0', 'Feature149': '0', 'Feature86': '0', 'Feature89': '0', 'Feature88': '0', 'Feature124': '0', 'Feature123': '0', 'Feature126': '0', 'Feature125': '0', 'Feature120': '0', 'Feature70': '0', 'Feature122': '0', 'Feature121': '0', 'Feature72': '0', 'Feature71': '0', 'Feature74': '0', 'Feature73': '0', 'Feature117': '0', 'Feature76': '0', 'Feature75': '0', 'Feature116': '0', 'Feature119': '0', 'Feature78': '1', 'Feature77': '0', 'Feature118': '0', 'Feature79': '0', 'Feature135': '0', 'Feature134': '0', 'Feature137': '0', 'Feature136': '0', 'Feature131': '0', 'Feature130': '0', 'Feature133': '0', 'Feature132': '0', 'Feature61': '0', 'Feature60': '0', 'Feature63': '0', 'Feature62': '0', 'Feature65': '0', 'Feature128': '1', 'Feature64': '0', 'Feature127': '0', 'Feature67': '0', 'Feature66': '0', 'Feature129': '0', 'Feature69': '0', 'Feature68': '0', 'Feature102': '0', 'Feature223': '0', 'Feature222': '0', 'Feature101': '0', 'Feature104': '0', 'Feature103': '0', 'Feature224': '0', 'Feature100': '0', 'Feature221': '0', 'Feature220': '0', 'Feature219': '0', 'Feature216': '0', 'Feature215': '0', 'Feature218': '0', 'Feature217': '0', 'Feature5': '0', 'Feature4': '0', 'Feature3': '0', 'Feature2': '0', 'Feature1': '0', 'Feature9': '0', 'Feature8': '0', 'Feature7': '0', 'Feature6': '0', 'Feature113': '1', 'Feature112': '0', 'Feature115': '0', 'Feature114': '0', 'Feature111': '0', 'Feature110': '0', 'Feature109': '0', 'Feature106': '0', 'Feature105': '0', 'Feature108': '0', 'Feature107': '0', 'Feature201': '0', 'Feature200': '0', 'Feature203': '0', 'Feature202': '0', 'Feature212': '0', 'Feature211': '0', 'Feature214': '0', 'Feature213': '0', 'Feature210': '0', 'Feature209': '0', 'Feature208': '0', 'Feature205': '0', 'Feature204': '0', 'Feature207': '0', 'Feature206': '0', 'Feature10': '0', 'Feature12': '0', 'Feature11': '0', 'Feature14': '0', 'Feature13': '0', 'Feature16': '0', 'Feature15': '0', 'Feature18': '0', 'Feature17': '0', 'Feature19': '0', 'Feature182': '0', 'Feature181': '0', 'Feature184': '0', 'Feature183': '0', 'Feature180': '0', 'Feature189': '0', 'Feature186': '0', 'Feature185': '0', 'Feature188': '0', 'Feature187': '0', 'Feature50': '0', 'Feature52': '0', 'Feature51': '0', 'Feature54': '0', 'Feature53': '0', 'Feature56': '0', 'Feature55': '0', 'Feature58': '0', 'Feature57': '0', 'Feature59': '0', 'Feature193': '0', 'Feature192': '0', 'Feature195': '0', 'Feature194': '0', 'Feature191': '0', 'Feature190': '0', 'Feature197': '0', 'Feature196': '0', 'Feature199': '0', 'Feature198': '0', 'Feature41': '0', 'Feature40': '0', 'Feature43': '0', 'Feature42': '0', 'Feature45': '0', 'Feature44': '0', 'Feature47': '0', 'Feature46': '0', 'Feature49': '0', 'Feature48': '0', 'author_id': 'authorID_f10d9_1a759_6bf5a_67735_79ff1', 'Feature160': '0', 'Feature162': '0', 'Feature161': '0', 'Feature168': '0', 'Feature167': '0', 'Feature169': '0', 'Feature164': '0', 'Feature163': '0', 'Feature166': '0', 'Feature165': '0', 'Feature30': '0', 'Feature32': '0', 'Feature31': '0', 'Feature34': '0', 'Feature33': '0', 'Feature36': '0', 'Feature35': '0', 'Feature38': '0', 'Feature37': '0', 'Feature39': '0', 'Feature171': '0', 'Feature170': '0', 'Feature173': '0', 'Feature172': '0', 'Feature179': '0', 'Feature178': '0', 'Feature175': '0', 'Feature174': '0', 'Feature177': '0', 'Feature176': '0', 'Feature21': '0', 'Feature20': '0', 'Feature23': '0', 'Feature22': '0', 'Feature25': '0', 'Feature24': '0', 'Feature27': '0', 'Feature26': '0', 'Feature29': '0', 'Feature28': '0'}> degree=42>, <Record a=<Node element_id='4:90d4a046-c6c5-4c79-987b-3b140a0d4b7c:85' labels=frozenset({'Author'}) properties={'Feature140': '0', 'Feature146': '0', 'Feature145': '0', 'Feature148': '0', 'Feature147': '0', 'Feature90': '0', 'Feature142': '0', 'Feature141': '0', 'Feature92': '0', 'Feature144': '0', 'Feature143': '0', 'Feature91': '0', 'Feature94': '0', 'Feature93': '0', 'Feature96': '0', 'Feature95': '0', 'Feature98': '0', 'Feature139': '0', 'Feature138': '0', 'Feature97': '0', 'Feature99': '0', 'Feature151': '0', 'Feature150': '1', 'Feature157': '0', 'Feature156': '0', 'Feature159': '0', 'Feature158': '0', 'Feature153': '0', 'Feature152': '0', 'Feature81': '0', 'Feature155': '0', 'Feature80': '0', 'Feature154': '0', 'Feature83': '0', 'Feature82': '0', 'Feature85': '0', 'Feature84': '0', 'Feature87': '0', 'Feature149': '0', 'Feature86': '0', 'Feature89': '0', 'Feature88': '0', 'Feature124': '0', 'Feature123': '0', 'Feature126': '0', 'Feature125': '0', 'Feature120': '0', 'Feature70': '0', 'Feature122': '0', 'Feature121': '0', 'Feature72': '0', 'Feature71': '0', 'Feature74': '0', 'Feature73': '0', 'Feature117': '0', 'Feature76': '0', 'Feature75': '0', 'Feature116': '0', 'Feature119': '0', 'Feature78': '0', 'Feature77': '0', 'Feature118': '0', 'Feature79': '1', 'Feature135': '0', 'Feature134': '0', 'Feature137': '0', 'Feature136': '0', 'Feature131': '0', 'Feature130': '0', 'Feature133': '1', 'Feature132': '0', 'Feature61': '0', 'Feature60': '1', 'Feature63': '0', 'Feature62': '0', 'Feature65': '0', 'Feature128': '1', 'Feature64': '0', 'Feature127': '0', 'Feature67': '0', 'Feature66': '1', 'Feature129': '0', 'Feature69': '0', 'Feature68': '0', 'Feature102': '0', 'Feature223': '0', 'Feature222': '0', 'Feature101': '0', 'Feature104': '0', 'Feature103': '0', 'Feature224': '0', 'Feature100': '0', 'Feature221': '0', 'Feature220': '0', 'Feature219': '0', 'Feature216': '0', 'Feature215': '0', 'Feature218': '1', 'Feature217': '0', 'Feature5': '0', 'Feature4': '0', 'Feature3': '0', 'Feature2': '0', 'Feature1': '0', 'Feature9': '0', 'Feature8': '0', 'Feature7': '0', 'Feature6': '0', 'Feature113': '0', 'Feature112': '0', 'Feature115': '0', 'Feature114': '0', 'Feature111': '0', 'Feature110': '0', 'Feature109': '0', 'Feature106': '0', 'Feature105': '0', 'Feature108': '0', 'Feature107': '0', 'Feature201': '1', 'Feature200': '0', 'Feature203': '1', 'Feature202': '0', 'Feature212': '0', 'Feature211': '1', 'Feature214': '0', 'Feature213': '0', 'Feature210': '0', 'Feature209': '0', 'Feature208': '0', 'Feature205': '0', 'Feature204': '1', 'Feature207': '0', 'Feature206': '0', 'Feature10': '0', 'Feature12': '0', 'Feature11': '0', 'Feature14': '0', 'Feature13': '0', 'Feature16': '0', 'Feature15': '1', 'Feature18': '0', 'Feature17': '0', 'Feature19': '0', 'Feature182': '0', 'Feature181': '0', 'Feature184': '0', 'Feature183': '0', 'Feature180': '1', 'Feature189': '0', 'Feature186': '1', 'Feature185': '0', 'Feature188': '0', 'Feature187': '0', 'Feature50': '0', 'Feature52': '0', 'Feature51': '1', 'Feature54': '1', 'Feature53': '0', 'Feature56': '1', 'Feature55': '0', 'Feature58': '0', 'Feature57': '0', 'Feature59': '0', 'Feature193': '1', 'Feature192': '0', 'Feature195': '1', 'Feature194': '0', 'Feature191': '0', 'Feature190': '0', 'Feature197': '0', 'Feature196': '0', 'Feature199': '0', 'Feature198': '0', 'Feature41': '0', 'Feature40': '0', 'Feature43': '0', 'Feature42': '0', 'Feature45': '0', 'Feature44': '0', 'Feature47': '0', 'Feature46': '0', 'Feature49': '0', 'Feature48': '1', 'author_id': 'authorID_b7a56_873cd_771f2_c446d_369b6', 'Feature160': '0', 'Feature162': '1', 'Feature161': '0', 'Feature168': '0', 'Feature167': '1', 'Feature169': '0', 'Feature164': '0', 'Feature163': '0', 'Feature166': '0', 'Feature165': '0', 'Feature30': '0', 'Feature32': '0', 'Feature31': '0', 'Feature34': '0', 'Feature33': '0', 'Feature36': '0', 'Feature35': '0', 'Feature38': '0', 'Feature37': '0', 'Feature39': '0', 'Feature171': '0', 'Feature170': '1', 'Feature173': '0', 'Feature172': '0', 'Feature179': '0', 'Feature178': '0', 'Feature175': '0', 'Feature174': '0', 'Feature177': '0', 'Feature176': '1', 'Feature21': '0', 'Feature20': '0', 'Feature23': '0', 'Feature22': '0', 'Feature25': '0', 'Feature24': '0', 'Feature27': '0', 'Feature26': '0', 'Feature29': '0', 'Feature28': '0'}> degree=39>, <Record a=<Node element_id='4:90d4a046-c6c5-4c79-987b-3b140a0d4b7c:60' labels=frozenset({'Author'}) properties={'Feature140': '0', 'Feature146': '0', 'Feature145': '0', 'Feature148': '0', 'Feature147': '0', 'Feature90': '0', 'Feature142': '0', 'Feature141': '0', 'Feature92': '0', 'Feature144': '0', 'Feature143': '0', 'Feature91': '0', 'Feature94': '0', 'Feature93': '0', 'Feature96': '0', 'Feature95': '0', 'Feature98': '0', 'Feature139': '0', 'Feature138': '0', 'Feature97': '0', 'Feature99': '1', 'Feature151': '0', 'Feature150': '1', 'Feature157': '0', 'Feature156': '0', 'Feature159': '0', 'Feature158': '0', 'Feature153': '0', 'Feature152': '0', 'Feature81': '0', 'Feature155': '0', 'Feature80': '0', 'Feature154': '0', 'Feature83': '0', 'Feature82': '0', 'Feature85': '0', 'Feature84': '0', 'Feature87': '0', 'Feature149': '0', 'Feature86': '0', 'Feature89': '0', 'Feature88': '0', 'Feature124': '0', 'Feature123': '0', 'Feature126': '0', 'Feature125': '0', 'Feature120': '0', 'Feature70': '0', 'Feature122': '0', 'Feature121': '0', 'Feature72': '0', 'Feature71': '0', 'Feature74': '0', 'Feature73': '0', 'Feature117': '0', 'Feature76': '0', 'Feature75': '0', 'Feature116': '0', 'Feature119': '0', 'Feature78': '0', 'Feature77': '0', 'Feature118': '0', 'Feature79': '1', 'Feature135': '0', 'Feature134': '0', 'Feature137': '0', 'Feature136': '0', 'Feature131': '0', 'Feature130': '0', 'Feature133': '1', 'Feature132': '0', 'Feature61': '0', 'Feature60': '1', 'Feature63': '0', 'Feature62': '0', 'Feature65': '0', 'Feature128': '1', 'Feature64': '0', 'Feature127': '0', 'Feature67': '0', 'Feature66': '1', 'Feature129': '0', 'Feature69': '0', 'Feature68': '0', 'Feature102': '1', 'Feature223': '0', 'Feature222': '0', 'Feature101': '0', 'Feature104': '0', 'Feature103': '0', 'Feature224': '0', 'Feature100': '0', 'Feature221': '0', 'Feature220': '1', 'Feature219': '0', 'Feature216': '0', 'Feature215': '1', 'Feature218': '0', 'Feature217': '1', 'Feature5': '0', 'Feature4': '0', 'Feature3': '0', 'Feature2': '0', 'Feature1': '0', 'Feature9': '0', 'Feature8': '0', 'Feature7': '0', 'Feature6': '0', 'Feature113': '0', 'Feature112': '0', 'Feature115': '0', 'Feature114': '0', 'Feature111': '0', 'Feature110': '0', 'Feature109': '0', 'Feature106': '0', 'Feature105': '0', 'Feature108': '0', 'Feature107': '0', 'Feature201': '0', 'Feature200': '1', 'Feature203': '0', 'Feature202': '1', 'Feature212': '0', 'Feature211': '0', 'Feature214': '0', 'Feature213': '0', 'Feature210': '0', 'Feature209': '0', 'Feature208': '0', 'Feature205': '0', 'Feature204': '0', 'Feature207': '0', 'Feature206': '0', 'Feature10': '0', 'Feature12': '0', 'Feature11': '0', 'Feature14': '0', 'Feature13': '0', 'Feature16': '0', 'Feature15': '0', 'Feature18': '0', 'Feature17': '0', 'Feature19': '0', 'Feature182': '0', 'Feature181': '0', 'Feature184': '0', 'Feature183': '0', 'Feature180': '1', 'Feature189': '0', 'Feature186': '1', 'Feature185': '0', 'Feature188': '0', 'Feature187': '0', 'Feature50': '0', 'Feature52': '0', 'Feature51': '1', 'Feature54': '1', 'Feature53': '0', 'Feature56': '1', 'Feature55': '0', 'Feature58': '0', 'Feature57': '0', 'Feature59': '0', 'Feature193': '1', 'Feature192': '0', 'Feature195': '0', 'Feature194': '0', 'Feature191': '0', 'Feature190': '1', 'Feature197': '0', 'Feature196': '0', 'Feature199': '0', 'Feature198': '0', 'Feature41': '0', 'Feature40': '0', 'Feature43': '0', 'Feature42': '0', 'Feature45': '0', 'Feature44': '0', 'Feature47': '0', 'Feature46': '0', 'Feature49': '1', 'Feature48': '0', 'author_id': 'authorID_49d18_0ecf5_61328_19571_bf39d', 'Feature160': '0', 'Feature162': '0', 'Feature161': '0', 'Feature168': '0', 'Feature167': '0', 'Feature169': '0', 'Feature164': '0', 'Feature163': '0', 'Feature166': '0', 'Feature165': '0', 'Feature30': '0', 'Feature32': '0', 'Feature31': '0', 'Feature34': '0', 'Feature33': '0', 'Feature36': '0', 'Feature35': '0', 'Feature38': '0', 'Feature37': '0', 'Feature39': '0', 'Feature171': '0', 'Feature170': '0', 'Feature173': '0', 'Feature172': '0', 'Feature179': '0', 'Feature178': '0', 'Feature175': '0', 'Feature174': '1', 'Feature177': '0', 'Feature176': '0', 'Feature21': '0', 'Feature20': '0', 'Feature23': '0', 'Feature22': '0', 'Feature25': '0', 'Feature24': '0', 'Feature27': '0', 'Feature26': '0', 'Feature29': '0', 'Feature28': '0'}> degree=38>, <Record a=<Node element_id='4:90d4a046-c6c5-4c79-987b-3b140a0d4b7c:34' labels=frozenset({'Author'}) properties={'Feature140': '0', 'Feature146': '0', 'Feature145': '0', 'Feature148': '0', 'Feature147': '0', 'Feature90': '0', 'Feature142': '0', 'Feature141': '0', 'Feature92': '0', 'Feature144': '0', 'Feature143': '0', 'Feature91': '0', 'Feature94': '0', 'Feature93': '0', 'Feature96': '0', 'Feature95': '0', 'Feature98': '0', 'Feature139': '1', 'Feature138': '0', 'Feature97': '0', 'Feature99': '0', 'Feature151': '0', 'Feature150': '1', 'Feature157': '0', 'Feature156': '0', 'Feature159': '1', 'Feature158': '1', 'Feature153': '0', 'Feature152': '0', 'Feature81': '0', 'Feature155': '0', 'Feature80': '0', 'Feature154': '0', 'Feature83': '0', 'Feature82': '0', 'Feature85': '0', 'Feature84': '0', 'Feature87': '0', 'Feature149': '0', 'Feature86': '0', 'Feature89': '0', 'Feature88': '0', 'Feature124': '0', 'Feature123': '0', 'Feature126': '0', 'Feature125': '0', 'Feature120': '0', 'Feature70': '0', 'Feature122': '0', 'Feature121': '0', 'Feature72': '0', 'Feature71': '0', 'Feature74': '0', 'Feature73': '0', 'Feature117': '0', 'Feature76': '0', 'Feature75': '1', 'Feature116': '0', 'Feature119': '0', 'Feature78': '1', 'Feature77': '0', 'Feature118': '0', 'Feature79': '0', 'Feature135': '0', 'Feature134': '0', 'Feature137': '0', 'Feature136': '0', 'Feature131': '0', 'Feature130': '0', 'Feature133': '0', 'Feature132': '0', 'Feature61': '0', 'Feature60': '1', 'Feature63': '0', 'Feature62': '0', 'Feature65': '0', 'Feature128': '1', 'Feature64': '1', 'Feature127': '0', 'Feature67': '0', 'Feature66': '1', 'Feature129': '0', 'Feature69': '0', 'Feature68': '0', 'Feature102': '0', 'Feature223': '0', 'Feature222': '0', 'Feature101': '0', 'Feature104': '0', 'Feature103': '0', 'Feature224': '0', 'Feature100': '0', 'Feature221': '0', 'Feature220': '0', 'Feature219': '0', 'Feature216': '0', 'Feature215': '0', 'Feature218': '0', 'Feature217': '1', 'Feature5': '0', 'Feature4': '0', 'Feature3': '0', 'Feature2': '0', 'Feature1': '0', 'Feature9': '0', 'Feature8': '1', 'Feature7': '0', 'Feature6': '0', 'Feature113': '0', 'Feature112': '0', 'Feature115': '0', 'Feature114': '0', 'Feature111': '0', 'Feature110': '1', 'Feature109': '0', 'Feature106': '0', 'Feature105': '0', 'Feature108': '0', 'Feature107': '0', 'Feature201': '0', 'Feature200': '0', 'Feature203': '0', 'Feature202': '0', 'Feature212': '0', 'Feature211': '1', 'Feature214': '0', 'Feature213': '0', 'Feature210': '0', 'Feature209': '0', 'Feature208': '0', 'Feature205': '0', 'Feature204': '0', 'Feature207': '0', 'Feature206': '0', 'Feature10': '1', 'Feature12': '0', 'Feature11': '0', 'Feature14': '0', 'Feature13': '0', 'Feature16': '0', 'Feature15': '0', 'Feature18': '0', 'Feature17': '0', 'Feature19': '0', 'Feature182': '0', 'Feature181': '0', 'Feature184': '0', 'Feature183': '0', 'Feature180': '0', 'Feature189': '0', 'Feature186': '1', 'Feature185': '0', 'Feature188': '0', 'Feature187': '1', 'Feature50': '0', 'Feature52': '0', 'Feature51': '1', 'Feature54': '1', 'Feature53': '0', 'Feature56': '1', 'Feature55': '1', 'Feature58': '0', 'Feature57': '0', 'Feature59': '0', 'Feature193': '0', 'Feature192': '0', 'Feature195': '0', 'Feature194': '1', 'Feature191': '0', 'Feature190': '1', 'Feature197': '1', 'Feature196': '0', 'Feature199': '0', 'Feature198': '0', 'Feature41': '0', 'Feature40': '0', 'Feature43': '0', 'Feature42': '0', 'Feature45': '0', 'Feature44': '0', 'Feature47': '0', 'Feature46': '0', 'Feature49': '0', 'Feature48': '0', 'author_id': 'authorID_7688b_6ef52_55596_2d008_fff89', 'Feature160': '0', 'Feature162': '0', 'Feature161': '0', 'Feature168': '0', 'Feature167': '0', 'Feature169': '0', 'Feature164': '0', 'Feature163': '0', 'Feature166': '0', 'Feature165': '0', 'Feature30': '0', 'Feature32': '0', 'Feature31': '0', 'Feature34': '0', 'Feature33': '0', 'Feature36': '0', 'Feature35': '0', 'Feature38': '0', 'Feature37': '0', 'Feature39': '0', 'Feature171': '0', 'Feature170': '1', 'Feature173': '0', 'Feature172': '0', 'Feature179': '0', 'Feature178': '0', 'Feature175': '0', 'Feature174': '1', 'Feature177': '0', 'Feature176': '0', 'Feature21': '0', 'Feature20': '0', 'Feature23': '0', 'Feature22': '0', 'Feature25': '0', 'Feature24': '0', 'Feature27': '0', 'Feature26': '0', 'Feature29': '0', 'Feature28': '0'}> degree=36>, <Record a=<Node element_id='4:90d4a046-c6c5-4c79-987b-3b140a0d4b7c:1' labels=frozenset({'Author'}) properties={'Feature140': '0', 'Feature146': '1', 'Feature145': '0', 'Feature148': '0', 'Feature147': '0', 'Feature90': '0', 'Feature142': '0', 'Feature141': '0', 'Feature92': '0', 'Feature144': '0', 'Feature143': '0', 'Feature91': '0', 'Feature94': '0', 'Feature93': '0', 'Feature96': '0', 'Feature95': '0', 'Feature98': '0', 'Feature139': '0', 'Feature138': '0', 'Feature97': '0', 'Feature99': '0', 'Feature151': '0', 'Feature150': '0', 'Feature157': '0', 'Feature156': '0', 'Feature159': '0', 'Feature158': '0', 'Feature153': '0', 'Feature152': '0', 'Feature81': '0', 'Feature155': '0', 'Feature80': '0', 'Feature154': '0', 'Feature83': '0', 'Feature82': '0', 'Feature85': '0', 'Feature84': '0', 'Feature87': '0', 'Feature149': '0', 'Feature86': '0', 'Feature89': '0', 'Feature88': '0', 'Feature124': '0', 'Feature123': '0', 'Feature126': '0', 'Feature125': '0', 'Feature120': '0', 'Feature70': '0', 'Feature122': '0', 'Feature121': '0', 'Feature72': '0', 'Feature71': '0', 'Feature74': '0', 'Feature73': '0', 'Feature117': '0', 'Feature76': '0', 'Feature75': '0', 'Feature116': '0', 'Feature119': '0', 'Feature78': '1', 'Feature77': '0', 'Feature118': '0', 'Feature79': '0', 'Feature135': '0', 'Feature134': '0', 'Feature137': '0', 'Feature136': '0', 'Feature131': '0', 'Feature130': '0', 'Feature133': '0', 'Feature132': '0', 'Feature61': '0', 'Feature60': '1', 'Feature63': '0', 'Feature62': '0', 'Feature65': '0', 'Feature128': '1', 'Feature64': '0', 'Feature127': '0', 'Feature67': '0', 'Feature66': '0', 'Feature129': '0', 'Feature69': '0', 'Feature68': '0', 'Feature102': '0', 'Feature223': '0', 'Feature222': '0', 'Feature101': '0', 'Feature104': '0', 'Feature103': '0', 'Feature224': '0', 'Feature100': '0', 'Feature221': '0', 'Feature220': '0', 'Feature219': '0', 'Feature216': '0', 'Feature215': '0', 'Feature218': '0', 'Feature217': '0', 'Feature5': '0', 'Feature4': '0', 'Feature3': '0', 'Feature2': '0', 'Feature1': '0', 'Feature9': '0', 'Feature8': '0', 'Feature7': '0', 'Feature6': '0', 'Feature113': '0', 'Feature112': '0', 'Feature115': '0', 'Feature114': '0', 'Feature111': '0', 'Feature110': '0', 'Feature109': '0', 'Feature106': '0', 'Feature105': '0', 'Feature108': '0', 'Feature107': '0', 'Feature201': '0', 'Feature200': '0', 'Feature203': '0', 'Feature202': '0', 'Feature212': '0', 'Feature211': '0', 'Feature214': '0', 'Feature213': '0', 'Feature210': '0', 'Feature209': '0', 'Feature208': '0', 'Feature205': '0', 'Feature204': '0', 'Feature207': '0', 'Feature206': '0', 'Feature10': '0', 'Feature12': '0', 'Feature11': '0', 'Feature14': '0', 'Feature13': '0', 'Feature16': '0', 'Feature15': '0', 'Feature18': '0', 'Feature17': '0', 'Feature19': '0', 'Feature182': '0', 'Feature181': '0', 'Feature184': '0', 'Feature183': '0', 'Feature180': '0', 'Feature189': '0', 'Feature186': '0', 'Feature185': '0', 'Feature188': '0', 'Feature187': '0', 'Feature50': '0', 'Feature52': '0', 'Feature51': '1', 'Feature54': '1', 'Feature53': '0', 'Feature56': '0', 'Feature55': '0', 'Feature58': '0', 'Feature57': '0', 'Feature59': '0', 'Feature193': '0', 'Feature192': '0', 'Feature195': '0', 'Feature194': '0', 'Feature191': '0', 'Feature190': '0', 'Feature197': '0', 'Feature196': '0', 'Feature199': '0', 'Feature198': '0', 'Feature41': '0', 'Feature40': '0', 'Feature43': '0', 'Feature42': '0', 'Feature45': '0', 'Feature44': '0', 'Feature47': '0', 'Feature46': '0', 'Feature49': '0', 'Feature48': '0', 'author_id': 'authorID_1be00_34108_2e25c_4e251_ca671', 'Feature160': '0', 'Feature162': '0', 'Feature161': '0', 'Feature168': '0', 'Feature167': '0', 'Feature169': '0', 'Feature164': '0', 'Feature163': '0', 'Feature166': '0', 'Feature165': '0', 'Feature30': '0', 'Feature32': '0', 'Feature31': '0', 'Feature34': '0', 'Feature33': '0', 'Feature36': '0', 'Feature35': '0', 'Feature38': '0', 'Feature37': '0', 'Feature39': '0', 'Feature171': '0', 'Feature170': '0', 'Feature173': '0', 'Feature172': '0', 'Feature179': '0', 'Feature178': '0', 'Feature175': '0', 'Feature174': '0', 'Feature177': '0', 'Feature176': '0', 'Feature21': '0', 'Feature20': '0', 'Feature23': '0', 'Feature22': '0', 'Feature25': '0', 'Feature24': '0', 'Feature27': '0', 'Feature26': '0', 'Feature29': '0', 'Feature28': '0'}> degree=35>, <Record a=<Node element_id='4:90d4a046-c6c5-4c79-987b-3b140a0d4b7c:7' labels=frozenset({'Author'}) properties={'Feature140': '0', 'Feature146': '0', 'Feature145': '0', 'Feature148': '0', 'Feature147': '0', 'Feature90': '0', 'Feature142': '0', 'Feature141': '1', 'Feature92': '0', 'Feature144': '1', 'Feature143': '0', 'Feature91': '0', 'Feature94': '0', 'Feature93': '1', 'Feature96': '0', 'Feature95': '0', 'Feature98': '0', 'Feature139': '0', 'Feature138': '0', 'Feature97': '0', 'Feature99': '0', 'Feature151': '0', 'Feature150': '1', 'Feature157': '0', 'Feature156': '0', 'Feature159': '0', 'Feature158': '0', 'Feature153': '0', 'Feature152': '0', 'Feature81': '0', 'Feature155': '0', 'Feature80': '0', 'Feature154': '0', 'Feature83': '0', 'Feature82': '0', 'Feature85': '0', 'Feature84': '0', 'Feature87': '0', 'Feature149': '0', 'Feature86': '0', 'Feature89': '0', 'Feature88': '0', 'Feature124': '0', 'Feature123': '0', 'Feature126': '0', 'Feature125': '0', 'Feature120': '0', 'Feature70': '0', 'Feature122': '0', 'Feature121': '0', 'Feature72': '0', 'Feature71': '0', 'Feature74': '0', 'Feature73': '0', 'Feature117': '0', 'Feature76': '0', 'Feature75': '0', 'Feature116': '0', 'Feature119': '0', 'Feature78': '1', 'Feature77': '0', 'Feature118': '0', 'Feature79': '0', 'Feature135': '0', 'Feature134': '0', 'Feature137': '0', 'Feature136': '0', 'Feature131': '0', 'Feature130': '0', 'Feature133': '1', 'Feature132': '0', 'Feature61': '0', 'Feature60': '1', 'Feature63': '0', 'Feature62': '0', 'Feature65': '0', 'Feature128': '1', 'Feature64': '0', 'Feature127': '0', 'Feature67': '0', 'Feature66': '1', 'Feature129': '0', 'Feature69': '0', 'Feature68': '0', 'Feature102': '0', 'Feature223': '0', 'Feature222': '0', 'Feature101': '1', 'Feature104': '0', 'Feature103': '0', 'Feature224': '1', 'Feature100': '0', 'Feature221': '1', 'Feature220': '0', 'Feature219': '1', 'Feature216': '1', 'Feature215': '0', 'Feature218': '0', 'Feature217': '1', 'Feature5': '0', 'Feature4': '0', 'Feature3': '0', 'Feature2': '0', 'Feature1': '0', 'Feature9': '0', 'Feature8': '0', 'Feature7': '0', 'Feature6': '0', 'Feature113': '0', 'Feature112': '0', 'Feature115': '0', 'Feature114': '0', 'Feature111': '0', 'Feature110': '0', 'Feature109': '0', 'Feature106': '0', 'Feature105': '0', 'Feature108': '0', 'Feature107': '0', 'Feature201': '0', 'Feature200': '0', 'Feature203': '0', 'Feature202': '0', 'Feature212': '0', 'Feature211': '1', 'Feature214': '0', 'Feature213': '0', 'Feature210': '0', 'Feature209': '1', 'Feature208': '1', 'Feature205': '0', 'Feature204': '0', 'Feature207': '0', 'Feature206': '0', 'Feature10': '0', 'Feature12': '0', 'Feature11': '0', 'Feature14': '0', 'Feature13': '1', 'Feature16': '0', 'Feature15': '0', 'Feature18': '0', 'Feature17': '1', 'Feature19': '0', 'Feature182': '0', 'Feature181': '0', 'Feature184': '0', 'Feature183': '0', 'Feature180': '1', 'Feature189': '0', 'Feature186': '0', 'Feature185': '0', 'Feature188': '0', 'Feature187': '0', 'Feature50': '0', 'Feature52': '0', 'Feature51': '1', 'Feature54': '1', 'Feature53': '0', 'Feature56': '1', 'Feature55': '1', 'Feature58': '0', 'Feature57': '0', 'Feature59': '0', 'Feature193': '0', 'Feature192': '0', 'Feature195': '0', 'Feature194': '0', 'Feature191': '0', 'Feature190': '0', 'Feature197': '0', 'Feature196': '0', 'Feature199': '0', 'Feature198': '0', 'Feature41': '0', 'Feature40': '0', 'Feature43': '0', 'Feature42': '0', 'Feature45': '0', 'Feature44': '1', 'Feature47': '0', 'Feature46': '0', 'Feature49': '0', 'Feature48': '0', 'author_id': 'authorID_d6e5a_20b30_f8721_6b2c7_58f5e', 'Feature160': '0', 'Feature162': '0', 'Feature161': '1', 'Feature168': '0', 'Feature167': '0', 'Feature169': '0', 'Feature164': '0', 'Feature163': '0', 'Feature166': '1', 'Feature165': '0', 'Feature30': '0', 'Feature32': '0', 'Feature31': '0', 'Feature34': '0', 'Feature33': '0', 'Feature36': '0', 'Feature35': '0', 'Feature38': '0', 'Feature37': '0', 'Feature39': '0', 'Feature171': '1', 'Feature170': '1', 'Feature173': '1', 'Feature172': '0', 'Feature179': '0', 'Feature178': '0', 'Feature175': '1', 'Feature174': '0', 'Feature177': '0', 'Feature176': '0', 'Feature21': '0', 'Feature20': '0', 'Feature23': '0', 'Feature22': '0', 'Feature25': '0', 'Feature24': '0', 'Feature27': '0', 'Feature26': '0', 'Feature29': '0', 'Feature28': '0'}> degree=34>, <Record a=<Node element_id='4:90d4a046-c6c5-4c79-987b-3b140a0d4b7c:14' labels=frozenset({'Author'}) properties={'Feature140': '0', 'Feature146': '1', 'Feature145': '0', 'Feature148': '0', 'Feature147': '0', 'Feature90': '0', 'Feature142': '0', 'Feature141': '0', 'Feature92': '0', 'Feature144': '0', 'Feature143': '0', 'Feature91': '0', 'Feature94': '0', 'Feature93': '0', 'Feature96': '0', 'Feature95': '0', 'Feature98': '0', 'Feature139': '0', 'Feature138': '0', 'Feature97': '0', 'Feature99': '0', 'Feature151': '0', 'Feature150': '0', 'Feature157': '0', 'Feature156': '0', 'Feature159': '0', 'Feature158': '0', 'Feature153': '0', 'Feature152': '0', 'Feature81': '0', 'Feature155': '0', 'Feature80': '0', 'Feature154': '0', 'Feature83': '0', 'Feature82': '0', 'Feature85': '0', 'Feature84': '0', 'Feature87': '0', 'Feature149': '0', 'Feature86': '0', 'Feature89': '0', 'Feature88': '1', 'Feature124': '0', 'Feature123': '0', 'Feature126': '0', 'Feature125': '0', 'Feature120': '0', 'Feature70': '0', 'Feature122': '0', 'Feature121': '0', 'Feature72': '0', 'Feature71': '0', 'Feature74': '0', 'Feature73': '0', 'Feature117': '0', 'Feature76': '0', 'Feature75': '0', 'Feature116': '0', 'Feature119': '0', 'Feature78': '1', 'Feature77': '0', 'Feature118': '0', 'Feature79': '0', 'Feature135': '0', 'Feature134': '0', 'Feature137': '0', 'Feature136': '0', 'Feature131': '0', 'Feature130': '0', 'Feature133': '1', 'Feature132': '0', 'Feature61': '0', 'Feature60': '0', 'Feature63': '0', 'Feature62': '0', 'Feature65': '0', 'Feature128': '1', 'Feature64': '0', 'Feature127': '0', 'Feature67': '0', 'Feature66': '0', 'Feature129': '0', 'Feature69': '0', 'Feature68': '0', 'Feature102': '0', 'Feature223': '0', 'Feature222': '0', 'Feature101': '0', 'Feature104': '0', 'Feature103': '0', 'Feature224': '0', 'Feature100': '0', 'Feature221': '0', 'Feature220': '0', 'Feature219': '0', 'Feature216': '0', 'Feature215': '0', 'Feature218': '0', 'Feature217': '0', 'Feature5': '0', 'Feature4': '0', 'Feature3': '0', 'Feature2': '0', 'Feature1': '0', 'Feature9': '0', 'Feature8': '0', 'Feature7': '0', 'Feature6': '0', 'Feature113': '0', 'Feature112': '0', 'Feature115': '0', 'Feature114': '0', 'Feature111': '0', 'Feature110': '0', 'Feature109': '0', 'Feature106': '0', 'Feature105': '0', 'Feature108': '0', 'Feature107': '0', 'Feature201': '0', 'Feature200': '0', 'Feature203': '0', 'Feature202': '0', 'Feature212': '0', 'Feature211': '0', 'Feature214': '0', 'Feature213': '0', 'Feature210': '0', 'Feature209': '0', 'Feature208': '0', 'Feature205': '0', 'Feature204': '0', 'Feature207': '0', 'Feature206': '0', 'Feature10': '1', 'Feature12': '0', 'Feature11': '0', 'Feature14': '0', 'Feature13': '0', 'Feature16': '0', 'Feature15': '0', 'Feature18': '0', 'Feature17': '0', 'Feature19': '0', 'Feature182': '0', 'Feature181': '0', 'Feature184': '0', 'Feature183': '0', 'Feature180': '0', 'Feature189': '0', 'Feature186': '0', 'Feature185': '0', 'Feature188': '0', 'Feature187': '0', 'Feature50': '0', 'Feature52': '0', 'Feature51': '1', 'Feature54': '1', 'Feature53': '0', 'Feature56': '1', 'Feature55': '0', 'Feature58': '0', 'Feature57': '0', 'Feature59': '0', 'Feature193': '0', 'Feature192': '0', 'Feature195': '0', 'Feature194': '0', 'Feature191': '0', 'Feature190': '0', 'Feature197': '0', 'Feature196': '0', 'Feature199': '0', 'Feature198': '0', 'Feature41': '0', 'Feature40': '0', 'Feature43': '0', 'Feature42': '0', 'Feature45': '0', 'Feature44': '0', 'Feature47': '0', 'Feature46': '0', 'Feature49': '0', 'Feature48': '0', 'author_id': 'authorID_79bf0_8685d_3138f_9b109_c3546', 'Feature160': '0', 'Feature162': '0', 'Feature161': '0', 'Feature168': '0', 'Feature167': '0', 'Feature169': '0', 'Feature164': '0', 'Feature163': '0', 'Feature166': '0', 'Feature165': '0', 'Feature30': '0', 'Feature32': '0', 'Feature31': '0', 'Feature34': '0', 'Feature33': '0', 'Feature36': '0', 'Feature35': '0', 'Feature38': '0', 'Feature37': '0', 'Feature39': '0', 'Feature171': '0', 'Feature170': '0', 'Feature173': '0', 'Feature172': '0', 'Feature179': '0', 'Feature178': '0', 'Feature175': '0', 'Feature174': '0', 'Feature177': '0', 'Feature176': '0', 'Feature21': '0', 'Feature20': '0', 'Feature23': '0', 'Feature22': '0', 'Feature25': '0', 'Feature24': '0', 'Feature27': '0', 'Feature26': '0', 'Feature29': '0', 'Feature28': '0'}> degree=33>, <Record a=<Node element_id='4:90d4a046-c6c5-4c79-987b-3b140a0d4b7c:3' labels=frozenset({'Author'}) properties={'Feature140': '0', 'Feature146': '0', 'Feature145': '0', 'Feature148': '0', 'Feature147': '0', 'Feature90': '0', 'Feature142': '0', 'Feature141': '0', 'Feature92': '0', 'Feature144': '0', 'Feature143': '0', 'Feature91': '0', 'Feature94': '0', 'Feature93': '1', 'Feature96': '0', 'Feature95': '0', 'Feature98': '0', 'Feature139': '1', 'Feature138': '0', 'Feature97': '0', 'Feature99': '0', 'Feature151': '0', 'Feature150': '1', 'Feature157': '0', 'Feature156': '0', 'Feature159': '1', 'Feature158': '0', 'Feature153': '1', 'Feature152': '0', 'Feature81': '0', 'Feature155': '0', 'Feature80': '0', 'Feature154': '0', 'Feature83': '0', 'Feature82': '0', 'Feature85': '0', 'Feature84': '0', 'Feature87': '0', 'Feature149': '0', 'Feature86': '0', 'Feature89': '0', 'Feature88': '0', 'Feature124': '0', 'Feature123': '0', 'Feature126': '0', 'Feature125': '0', 'Feature120': '0', 'Feature70': '0', 'Feature122': '0', 'Feature121': '0', 'Feature72': '0', 'Feature71': '0', 'Feature74': '0', 'Feature73': '0', 'Feature117': '0', 'Feature76': '0', 'Feature75': '0', 'Feature116': '0', 'Feature119': '0', 'Feature78': '0', 'Feature77': '0', 'Feature118': '0', 'Feature79': '1', 'Feature135': '0', 'Feature134': '0', 'Feature137': '0', 'Feature136': '0', 'Feature131': '0', 'Feature130': '0', 'Feature133': '0', 'Feature132': '0', 'Feature61': '0', 'Feature60': '1', 'Feature63': '0', 'Feature62': '0', 'Feature65': '0', 'Feature128': '1', 'Feature64': '0', 'Feature127': '0', 'Feature67': '0', 'Feature66': '0', 'Feature129': '0', 'Feature69': '0', 'Feature68': '0', 'Feature102': '0', 'Feature223': '0', 'Feature222': '0', 'Feature101': '1', 'Feature104': '0', 'Feature103': '0', 'Feature224': '0', 'Feature100': '0', 'Feature221': '0', 'Feature220': '0', 'Feature219': '0', 'Feature216': '0', 'Feature215': '0', 'Feature218': '1', 'Feature217': '0', 'Feature5': '0', 'Feature4': '0', 'Feature3': '0', 'Feature2': '0', 'Feature1': '0', 'Feature9': '0', 'Feature8': '0', 'Feature7': '0', 'Feature6': '0', 'Feature113': '0', 'Feature112': '0', 'Feature115': '0', 'Feature114': '0', 'Feature111': '0', 'Feature110': '0', 'Feature109': '0', 'Feature106': '0', 'Feature105': '0', 'Feature108': '0', 'Feature107': '0', 'Feature201': '0', 'Feature200': '0', 'Feature203': '0', 'Feature202': '0', 'Feature212': '0', 'Feature211': '1', 'Feature214': '1', 'Feature213': '0', 'Feature210': '0', 'Feature209': '1', 'Feature208': '0', 'Feature205': '0', 'Feature204': '0', 'Feature207': '0', 'Feature206': '0', 'Feature10': '0', 'Feature12': '0', 'Feature11': '0', 'Feature14': '0', 'Feature13': '0', 'Feature16': '0', 'Feature15': '1', 'Feature18': '0', 'Feature17': '0', 'Feature19': '0', 'Feature182': '0', 'Feature181': '0', 'Feature184': '0', 'Feature183': '1', 'Feature180': '1', 'Feature189': '0', 'Feature186': '1', 'Feature185': '0', 'Feature188': '0', 'Feature187': '0', 'Feature50': '0', 'Feature52': '0', 'Feature51': '1', 'Feature54': '1', 'Feature53': '0', 'Feature56': '1', 'Feature55': '0', 'Feature58': '0', 'Feature57': '0', 'Feature59': '0', 'Feature193': '0', 'Feature192': '0', 'Feature195': '0', 'Feature194': '0', 'Feature191': '0', 'Feature190': '0', 'Feature197': '0', 'Feature196': '0', 'Feature199': '0', 'Feature198': '0', 'Feature41': '0', 'Feature40': '0', 'Feature43': '0', 'Feature42': '0', 'Feature45': '0', 'Feature44': '0', 'Feature47': '0', 'Feature46': '0', 'Feature49': '0', 'Feature48': '0', 'author_id': 'authorID_3635a_91e3d_a857f_7847f_68185', 'Feature160': '0', 'Feature162': '0', 'Feature161': '1', 'Feature168': '1', 'Feature167': '0', 'Feature169': '0', 'Feature164': '0', 'Feature163': '0', 'Feature166': '0', 'Feature165': '0', 'Feature30': '0', 'Feature32': '0', 'Feature31': '0', 'Feature34': '0', 'Feature33': '0', 'Feature36': '0', 'Feature35': '0', 'Feature38': '0', 'Feature37': '0', 'Feature39': '0', 'Feature171': '0', 'Feature170': '1', 'Feature173': '0', 'Feature172': '0', 'Feature179': '0', 'Feature178': '0', 'Feature175': '0', 'Feature174': '1', 'Feature177': '0', 'Feature176': '0', 'Feature21': '0', 'Feature20': '0', 'Feature23': '0', 'Feature22': '0', 'Feature25': '0', 'Feature24': '0', 'Feature27': '0', 'Feature26': '0', 'Feature29': '0', 'Feature28': '0'}> degree=33>, <Record a=<Node element_id='4:90d4a046-c6c5-4c79-987b-3b140a0d4b7c:27' labels=frozenset({'Author'}) properties={'Feature140': '0', 'Feature146': '0', 'Feature145': '0', 'Feature148': '0', 'Feature147': '0', 'Feature90': '0', 'Feature142': '0', 'Feature141': '0', 'Feature92': '0', 'Feature144': '0', 'Feature143': '0', 'Feature91': '0', 'Feature94': '0', 'Feature93': '0', 'Feature96': '0', 'Feature95': '0', 'Feature98': '0', 'Feature139': '0', 'Feature138': '0', 'Feature97': '0', 'Feature99': '0', 'Feature151': '0', 'Feature150': '1', 'Feature157': '1', 'Feature156': '0', 'Feature159': '0', 'Feature158': '0', 'Feature153': '0', 'Feature152': '0', 'Feature81': '0', 'Feature155': '0', 'Feature80': '0', 'Feature154': '0', 'Feature83': '0', 'Feature82': '0', 'Feature85': '0', 'Feature84': '0', 'Feature87': '0', 'Feature149': '0', 'Feature86': '0', 'Feature89': '0', 'Feature88': '0', 'Feature124': '0', 'Feature123': '0', 'Feature126': '0', 'Feature125': '0', 'Feature120': '0', 'Feature70': '0', 'Feature122': '0', 'Feature121': '0', 'Feature72': '0', 'Feature71': '0', 'Feature74': '0', 'Feature73': '1', 'Feature117': '0', 'Feature76': '0', 'Feature75': '0', 'Feature116': '0', 'Feature119': '0', 'Feature78': '0', 'Feature77': '0', 'Feature118': '0', 'Feature79': '1', 'Feature135': '0', 'Feature134': '0', 'Feature137': '0', 'Feature136': '0', 'Feature131': '0', 'Feature130': '0', 'Feature133': '0', 'Feature132': '0', 'Feature61': '0', 'Feature60': '0', 'Feature63': '0', 'Feature62': '0', 'Feature65': '0', 'Feature128': '1', 'Feature64': '1', 'Feature127': '0', 'Feature67': '0', 'Feature66': '1', 'Feature129': '1', 'Feature69': '0', 'Feature68': '0', 'Feature102': '0', 'Feature223': '0', 'Feature222': '0', 'Feature101': '0', 'Feature104': '0', 'Feature103': '0', 'Feature224': '0', 'Feature100': '0', 'Feature221': '0', 'Feature220': '0', 'Feature219': '0', 'Feature216': '0', 'Feature215': '0', 'Feature218': '1', 'Feature217': '0', 'Feature5': '0', 'Feature4': '0', 'Feature3': '0', 'Feature2': '0', 'Feature1': '0', 'Feature9': '0', 'Feature8': '0', 'Feature7': '0', 'Feature6': '0', 'Feature113': '0', 'Feature112': '0', 'Feature115': '0', 'Feature114': '0', 'Feature111': '0', 'Feature110': '0', 'Feature109': '0', 'Feature106': '0', 'Feature105': '0', 'Feature108': '0', 'Feature107': '0', 'Feature201': '1', 'Feature200': '0', 'Feature203': '0', 'Feature202': '0', 'Feature212': '1', 'Feature211': '0', 'Feature214': '0', 'Feature213': '0', 'Feature210': '0', 'Feature209': '0', 'Feature208': '0', 'Feature205': '0', 'Feature204': '0', 'Feature207': '0', 'Feature206': '0', 'Feature10': '0', 'Feature12': '0', 'Feature11': '0', 'Feature14': '0', 'Feature13': '0', 'Feature16': '0', 'Feature15': '1', 'Feature18': '0', 'Feature17': '0', 'Feature19': '0', 'Feature182': '0', 'Feature181': '0', 'Feature184': '0', 'Feature183': '0', 'Feature180': '1', 'Feature189': '0', 'Feature186': '0', 'Feature185': '0', 'Feature188': '0', 'Feature187': '0', 'Feature50': '0', 'Feature52': '0', 'Feature51': '1', 'Feature54': '1', 'Feature53': '1', 'Feature56': '1', 'Feature55': '1', 'Feature58': '0', 'Feature57': '0', 'Feature59': '0', 'Feature193': '0', 'Feature192': '0', 'Feature195': '0', 'Feature194': '0', 'Feature191': '0', 'Feature190': '0', 'Feature197': '0', 'Feature196': '0', 'Feature199': '0', 'Feature198': '0', 'Feature41': '0', 'Feature40': '0', 'Feature43': '0', 'Feature42': '0', 'Feature45': '0', 'Feature44': '0', 'Feature47': '0', 'Feature46': '0', 'Feature49': '0', 'Feature48': '0', 'author_id': 'authorID_3038b_fb575_bee6a_0e619_45eff', 'Feature160': '0', 'Feature162': '0', 'Feature161': '0', 'Feature168': '0', 'Feature167': '0', 'Feature169': '0', 'Feature164': '0', 'Feature163': '0', 'Feature166': '0', 'Feature165': '0', 'Feature30': '0', 'Feature32': '0', 'Feature31': '0', 'Feature34': '0', 'Feature33': '0', 'Feature36': '0', 'Feature35': '0', 'Feature38': '0', 'Feature37': '0', 'Feature39': '0', 'Feature171': '0', 'Feature170': '0', 'Feature173': '0', 'Feature172': '1', 'Feature179': '0', 'Feature178': '0', 'Feature175': '1', 'Feature174': '0', 'Feature177': '0', 'Feature176': '0', 'Feature21': '0', 'Feature20': '0', 'Feature23': '0', 'Feature22': '1', 'Feature25': '0', 'Feature24': '0', 'Feature27': '0', 'Feature26': '0', 'Feature29': '0', 'Feature28': '0'}> degree=31>, <Record a=<Node element_id='4:90d4a046-c6c5-4c79-987b-3b140a0d4b7c:63' labels=frozenset({'Author'}) properties={'Feature140': '0', 'Feature146': '0', 'Feature145': '0', 'Feature148': '0', 'Feature147': '0', 'Feature90': '0', 'Feature142': '0', 'Feature141': '0', 'Feature92': '0', 'Feature144': '0', 'Feature143': '0', 'Feature91': '0', 'Feature94': '0', 'Feature93': '0', 'Feature96': '0', 'Feature95': '0', 'Feature98': '0', 'Feature139': '0', 'Feature138': '0', 'Feature97': '0', 'Feature99': '0', 'Feature151': '0', 'Feature150': '0', 'Feature157': '0', 'Feature156': '0', 'Feature159': '0', 'Feature158': '0', 'Feature153': '0', 'Feature152': '0', 'Feature81': '0', 'Feature155': '0', 'Feature80': '0', 'Feature154': '0', 'Feature83': '1', 'Feature82': '0', 'Feature85': '0', 'Feature84': '0', 'Feature87': '0', 'Feature149': '0', 'Feature86': '0', 'Feature89': '0', 'Feature88': '0', 'Feature124': '0', 'Feature123': '0', 'Feature126': '0', 'Feature125': '0', 'Feature120': '0', 'Feature70': '0', 'Feature122': '0', 'Feature121': '0', 'Feature72': '0', 'Feature71': '0', 'Feature74': '0', 'Feature73': '0', 'Feature117': '0', 'Feature76': '0', 'Feature75': '0', 'Feature116': '0', 'Feature119': '0', 'Feature78': '1', 'Feature77': '0', 'Feature118': '0', 'Feature79': '0', 'Feature135': '1', 'Feature134': '0', 'Feature137': '0', 'Feature136': '0', 'Feature131': '0', 'Feature130': '0', 'Feature133': '0', 'Feature132': '0', 'Feature61': '0', 'Feature60': '0', 'Feature63': '0', 'Feature62': '0', 'Feature65': '0', 'Feature128': '1', 'Feature64': '0', 'Feature127': '0', 'Feature67': '0', 'Feature66': '0', 'Feature129': '0', 'Feature69': '0', 'Feature68': '0', 'Feature102': '1', 'Feature223': '0', 'Feature222': '0', 'Feature101': '0', 'Feature104': '0', 'Feature103': '0', 'Feature224': '0', 'Feature100': '0', 'Feature221': '0', 'Feature220': '0', 'Feature219': '0', 'Feature216': '0', 'Feature215': '0', 'Feature218': '0', 'Feature217': '0', 'Feature5': '0', 'Feature4': '0', 'Feature3': '0', 'Feature2': '0', 'Feature1': '0', 'Feature9': '0', 'Feature8': '0', 'Feature7': '0', 'Feature6': '0', 'Feature113': '1', 'Feature112': '0', 'Feature115': '0', 'Feature114': '0', 'Feature111': '0', 'Feature110': '0', 'Feature109': '0', 'Feature106': '0', 'Feature105': '0', 'Feature108': '0', 'Feature107': '0', 'Feature201': '0', 'Feature200': '0', 'Feature203': '0', 'Feature202': '0', 'Feature212': '0', 'Feature211': '0', 'Feature214': '0', 'Feature213': '0', 'Feature210': '0', 'Feature209': '0', 'Feature208': '0', 'Feature205': '0', 'Feature204': '0', 'Feature207': '0', 'Feature206': '0', 'Feature10': '0', 'Feature12': '0', 'Feature11': '0', 'Feature14': '0', 'Feature13': '0', 'Feature16': '0', 'Feature15': '0', 'Feature18': '0', 'Feature17': '0', 'Feature19': '0', 'Feature182': '0', 'Feature181': '0', 'Feature184': '0', 'Feature183': '0', 'Feature180': '0', 'Feature189': '0', 'Feature186': '0', 'Feature185': '0', 'Feature188': '0', 'Feature187': '0', 'Feature50': '0', 'Feature52': '0', 'Feature51': '0', 'Feature54': '0', 'Feature53': '0', 'Feature56': '0', 'Feature55': '0', 'Feature58': '0', 'Feature57': '0', 'Feature59': '0', 'Feature193': '0', 'Feature192': '0', 'Feature195': '0', 'Feature194': '0', 'Feature191': '0', 'Feature190': '0', 'Feature197': '0', 'Feature196': '0', 'Feature199': '0', 'Feature198': '0', 'Feature41': '0', 'Feature40': '0', 'Feature43': '0', 'Feature42': '0', 'Feature45': '0', 'Feature44': '0', 'Feature47': '0', 'Feature46': '0', 'Feature49': '0', 'Feature48': '0', 'author_id': 'authorID_377ad_eb4cd_4096a_dc7ca_64b53', 'Feature160': '0', 'Feature162': '0', 'Feature161': '0', 'Feature168': '0', 'Feature167': '0', 'Feature169': '0', 'Feature164': '0', 'Feature163': '0', 'Feature166': '0', 'Feature165': '0', 'Feature30': '0', 'Feature32': '0', 'Feature31': '0', 'Feature34': '0', 'Feature33': '0', 'Feature36': '0', 'Feature35': '0', 'Feature38': '0', 'Feature37': '0', 'Feature39': '0', 'Feature171': '0', 'Feature170': '0', 'Feature173': '0', 'Feature172': '0', 'Feature179': '0', 'Feature178': '0', 'Feature175': '0', 'Feature174': '0', 'Feature177': '0', 'Feature176': '0', 'Feature21': '0', 'Feature20': '0', 'Feature23': '0', 'Feature22': '0', 'Feature25': '0', 'Feature24': '0', 'Feature27': '0', 'Feature26': '0', 'Feature29': '0', 'Feature28': '0'}> degree=28>]\n"
     ]
    }
   ],
   "source": [
    "from neo4j import GraphDatabase\n",
    "import networkx as nx\n",
    "uri = \"bolt://localhost:7687\"\n",
    "user = \"neo4j\"\n",
    "password = \"Swayam2003\"\n",
    "\n",
    "\n",
    "driver = GraphDatabase.driver(uri, auth=(user, password))\n",
    "\n",
    "query1 = \"MATCH (a:Author) RETURN COUNT(a) AS numAuthors\"\n",
    "query2 = \"MATCH ()-[e:CO_AUTHORED]->() RETURN COUNT(e) AS numCoAuthorships;\"\n",
    "query3 = \"MATCH ()-[e:CO_AUTHORED]->() MATCH (a:Author) With COUNT(a) AS numAuthors,COUNT(e) AS numCoAuthorships RETURN (2.0 * numCoAuthorships) / (numAuthors * (numAuthors - 1)) AS networkDensity;\"\n",
    "query4 = \"MATCH (a:Author) MATCH (a)-[e:CO_AUTHORED]->() WITH a, COUNT(e) AS degree RETURN AVG(degree) AS averageDegree;\"\n",
    "query5 = \"MATCH (a:Author)-[e:CO_AUTHORED]->() WITH a, COUNT(e) AS degree RETURN a, degree ORDER BY degree DESC LIMIT 10;\"\n",
    "\n",
    "def run_query(query):\n",
    "    with driver.session() as session:\n",
    "        result = session.run(query)\n",
    "        records = [record for record in result]\n",
    "        return records\n",
    "\n",
    "print(run_query(query1))\n",
    "print(run_query(query2))\n",
    "print(run_query(query3))\n",
    "print(run_query(query4))\n",
    "print(run_query(query5))\n",
    "\n",
    "\n",
    "\n",
    "driver.close()\n"
   ]
  },
  {
   "cell_type": "markdown",
   "metadata": {},
   "source": [
    "GNN Testing\n"
   ]
  },
  {
   "cell_type": "code",
   "execution_count": 16,
   "metadata": {},
   "outputs": [
    {
     "name": "stdout",
     "output_type": "stream",
     "text": [
      "Data(x=[333, 224], edge_index=[2, 2519], y=[333])\n"
     ]
    }
   ],
   "source": [
    "from neo4j import GraphDatabase\n",
    "import networkx as nx\n",
    "import torch\n",
    "from torch_geometric.data import Data\n",
    "\n",
    "\n",
    "uri = \"bolt://localhost:7687\"\n",
    "user = \"neo4j\"\n",
    "password = \"Swayam2003\"\n",
    "driver = GraphDatabase.driver(uri, auth=(user, password))\n",
    "\n",
    "\n",
    "def run_query(query):\n",
    "    with driver.session() as session:\n",
    "        result = session.run(query)\n",
    "        records = [record for record in result]\n",
    "        return records\n",
    "\n",
    "\n",
    "query = \" MATCH (a:Author)-[:CO_AUTHORED]->(b:Author) RETURN a.author_id AS author1, b.author_id AS author2 \"\n",
    "records = run_query(query)\n",
    "\n",
    "\n",
    "G = nx.Graph()\n",
    "author_to_index = {}\n",
    "index = 0\n",
    "for record in records:\n",
    "    author1 = record[\"author1\"]\n",
    "    author2 = record[\"author2\"]\n",
    "    if author1 not in author_to_index:\n",
    "        author_to_index[author1] = index\n",
    "        index += 1\n",
    "    if author2 not in author_to_index:\n",
    "        author_to_index[author2] = index\n",
    "        index += 1\n",
    "    G.add_edge(author_to_index[author1], author_to_index[author2])\n",
    "\n",
    "\n",
    "author_features_query = \"MATCH (a:Author) RETURN a.author_id AS author_id,a.Feature28 AS Feature28,a.Feature24 AS Feature24,        a.Feature27 AS Feature27,        a.Feature26 AS Feature26,        a.Feature29 AS Feature29,        a.Feature20 AS Feature20,        a.Feature23 AS Feature23,        a.Feature22 AS Feature22,        a.Feature25 AS Feature25,        a.Feature174 AS Feature174,        a.Feature177 AS Feature177,        a.Feature176 AS Feature176,        a.Feature21 AS Feature21,        a.Feature172 AS Feature172,        a.Feature179 AS Feature179,        a.Feature178 AS Feature178,        a.Feature175 AS Feature175,        a.Feature39 AS Feature39,        a.Feature171 AS Feature171,        a.Feature170 AS Feature170,        a.Feature173 AS Feature173,        a.Feature36 AS Feature36,        a.Feature35 AS Feature35,        a.Feature38 AS Feature38,        a.Feature37 AS Feature37,        a.Feature32 AS Feature32,        a.Feature31 AS Feature31,        a.Feature34 AS Feature34,        a.Feature33 AS Feature33,        a.Feature163 AS Feature163,        a.Feature166 AS Feature166,        a.Feature165 AS Feature165,        a.Feature30 AS Feature30,        a.Feature168 AS Feature168,        a.Feature167 AS Feature167,        a.Feature169 AS Feature169,        a.Feature164 AS Feature164,        a.Feature48 AS Feature48,        a.Feature160 AS Feature160,        a.Feature162 AS Feature162,        a.Feature161 AS Feature161,        a.Feature44 AS Feature44,        a.Feature47 AS Feature47,        a.Feature46 AS Feature46,        a.Feature49 AS Feature49,        a.Feature40 AS Feature40,        a.Feature43 AS Feature43,        a.Feature42 AS Feature42,        a.Feature45 AS Feature45,        a.Feature196 AS Feature196,        a.Feature199 AS Feature199,        a.Feature198 AS Feature198,        a.Feature41 AS Feature41,        a.Feature194 AS Feature194,        a.Feature191 AS Feature191,        a.Feature190 AS Feature190,        a.Feature197 AS Feature197,        a.Feature59 AS Feature59,        a.Feature193 AS Feature193,        a.Feature192 AS Feature192,        a.Feature195 AS Feature195,        a.Feature56 AS Feature56,        a.Feature55 AS Feature55,        a.Feature58 AS Feature58,        a.Feature57 AS Feature57,        a.Feature52 AS Feature52,        a.Feature51 AS Feature51,        a.Feature54 AS Feature54,        a.Feature53 AS Feature53,        a.Feature185 AS Feature185,        a.Feature188 AS Feature188,        a.Feature187 AS Feature187,        a.Feature50 AS Feature50,        a.Feature183 AS Feature183,        a.Feature180 AS Feature180,        a.Feature189 AS Feature189,        a.Feature186 AS Feature186,        a.Feature19 AS Feature19,        a.Feature182 AS Feature182,        a.Feature181 AS Feature181,        a.Feature184 AS Feature184,        a.Feature16 AS Feature16,        a.Feature15 AS Feature15,        a.Feature18 AS Feature18,        a.Feature17 AS Feature17,        a.Feature12 AS Feature12,        a.Feature11 AS Feature11,        a.Feature14 AS Feature14,        a.Feature13 AS Feature13,        a.Feature204 AS Feature204,        a.Feature207 AS Feature207,        a.Feature206 AS Feature206,        a.Feature10 AS Feature10,        a.Feature210 AS Feature210,        a.Feature209 AS Feature209,        a.Feature208 AS Feature208,        a.Feature205 AS Feature205,        a.Feature212 AS Feature212,        a.Feature211 AS Feature211,        a.Feature214 AS Feature214,        a.Feature213 AS Feature213,        a.Feature201 AS Feature201,        a.Feature200 AS Feature200,        a.Feature203 AS Feature203,        a.Feature202 AS Feature202,        a.Feature106 AS Feature106,        a.Feature105 AS Feature105,        a.Feature108 AS Feature108,        a.Feature107 AS Feature107,        a.Feature114 AS Feature114,        a.Feature111 AS Feature111,        a.Feature110 AS Feature110,        a.Feature109 AS Feature109,        a.Feature6 AS Feature6,        a.Feature113 AS Feature113,        a.Feature112 AS Feature112,        a.Feature115 AS Feature115,        a.Feature1 AS Feature1,        a.Feature9 AS Feature9,        a.Feature8 AS Feature8,        a.Feature7 AS Feature7,        a.Feature5 AS Feature5,        a.Feature4 AS Feature4,        a.Feature3 AS Feature3,        a.Feature2 AS Feature2,        a.Feature216 AS Feature216,        a.Feature215 AS Feature215,        a.Feature218 AS Feature218,        a.Feature217 AS Feature217,        a.Feature100 AS Feature100,        a.Feature221 AS Feature221,        a.Feature220 AS Feature220,        a.Feature219 AS Feature219,        a.Feature222 AS Feature222,        a.Feature104 AS Feature104,        a.Feature103 AS Feature103,        a.Feature224 AS Feature224,        a.Feature68 AS Feature68,        a.Feature102 AS Feature102,        a.Feature223 AS Feature223,        a.Feature101 AS Feature101,        a.Feature67 AS Feature67,        a.Feature66 AS Feature66,        a.Feature129 AS Feature129,        a.Feature69 AS Feature69,        a.Feature65 AS Feature65,        a.Feature128 AS Feature128,        a.Feature64 AS Feature64,        a.Feature127 AS Feature127,        a.Feature61 AS Feature61,        a.Feature60 AS Feature60,        a.Feature63 AS Feature63,        a.Feature62 AS Feature62,        a.Feature131 AS Feature131,        a.Feature130 AS Feature130,        a.Feature133 AS Feature133,        a.Feature132 AS Feature132,        a.Feature135 AS Feature135,        a.Feature134 AS Feature134,        a.Feature137 AS Feature137,        a.Feature136 AS Feature136,        a.Feature119 AS Feature119,        a.Feature77 AS Feature77,        a.Feature118 AS Feature118,        a.Feature79 AS Feature79,        a.Feature117 AS Feature117,        a.Feature75 AS Feature75,        a.Feature116 AS Feature116,        a.Feature78 AS Feature78,        a.Feature71 AS Feature71,        a.Feature74 AS Feature74,        a.Feature73 AS Feature73,        a.Feature76 AS Feature76,        a.Feature70 AS Feature70,        a.Feature122 AS Feature122,        a.Feature121 AS Feature121,        a.Feature72 AS Feature72,        a.Feature123 AS Feature123,        a.Feature126 AS Feature126,        a.Feature125 AS Feature125,        a.Feature120 AS Feature120,        a.Feature149 AS Feature149,        a.Feature89 AS Feature89,        a.Feature88 AS Feature88,        a.Feature124 AS Feature124,        a.Feature85 AS Feature85,        a.Feature84 AS Feature84,        a.Feature87 AS Feature87,        a.Feature86 AS Feature86,        a.Feature80 AS Feature80,        a.Feature154 AS Feature154,        a.Feature83 AS Feature83,        a.Feature82 AS Feature82,        a.Feature153 AS Feature153,        a.Feature152 AS Feature152,        a.Feature81 AS Feature81,        a.Feature155 AS Feature155,        a.Feature157 AS Feature157,        a.Feature156 AS Feature156,        a.Feature159 AS Feature159,        a.Feature158 AS Feature158,        a.Feature138 AS Feature138,        a.Feature99 AS Feature99,        a.Feature151 AS Feature151,        a.Feature150 AS Feature150,        a.Feature95 AS Feature95,        a.Feature98 AS Feature98,        a.Feature139 AS Feature139,        a.Feature97 AS Feature97,        a.Feature143 AS Feature143,        a.Feature94 AS Feature94,        a.Feature93 AS Feature93,        a.Feature96 AS Feature96,        a.Feature141 AS Feature141,        a.Feature92 AS Feature92,        a.Feature144 AS Feature144,        a.Feature91 AS Feature91,        a.Feature148 AS Feature148,        a.Feature147 AS Feature147,        a.Feature90 AS Feature90,        a.Feature142 AS Feature142,        a.Feature140 AS Feature140,        a.Feature146 AS Feature146,        a.Feature145 AS Feature145  ORDER BY a.author_id\"\n",
    "author_features_records = run_query(author_features_query)\n",
    "\n",
    "\n",
    "author_features_dict = {}\n",
    "for record in author_features_records:\n",
    "    author_id = record[\"author_id\"]\n",
    "    features = [int(record[f\"Feature{i}\"]) for i in range(1, 225)]  # Assuming features are named Feature1, Feature2, ..., Feature225\n",
    "    author_features_dict[author_id] = features\n",
    "\n",
    "edge_index = torch.tensor(list(G.edges), dtype=torch.int).t().contiguous()\n",
    "\n",
    "sorted_author_ids = sorted(author_to_index, key=author_to_index.get)\n",
    "\n",
    "x = torch.tensor([author_features_dict[author_id] for author_id in sorted_author_ids], dtype=torch.float)\n",
    "\n",
    "num_classes = 2 \n",
    "y = torch.randint(0, num_classes, (x.size(0),), dtype=torch.float)\n",
    "\n",
    "data = Data(x=x,y=y, edge_index=edge_index)\n",
    "\n",
    "print(data)\n",
    "\n",
    "driver.close()\n",
    "\n",
    "import pickle\n",
    "\n",
    "# Save the data using Pickle\n",
    "with open('data.pickle', 'wb') as f:\n",
    "    pickle.dump(data, f)\n",
    "with open('author_to_index.pickle', 'wb') as f:\n",
    "    pickle.dump(author_to_index, f)\n"
   ]
  },
  {
   "cell_type": "code",
   "execution_count": 4,
   "metadata": {},
   "outputs": [
    {
     "name": "stdout",
     "output_type": "stream",
     "text": [
      "Target Node: 1\n",
      "Attributes: {}\n",
      "Target Node: 31\n",
      "Attributes: {}\n",
      "Target Node: 8\n",
      "Attributes: {}\n",
      "Target Node: 140\n",
      "Attributes: {}\n",
      "Target Node: 2\n",
      "Attributes: {}\n",
      "Target Node: 24\n",
      "Attributes: {}\n",
      "Target Node: 17\n",
      "Attributes: {}\n",
      "Target Node: 70\n",
      "Attributes: {}\n",
      "Target Node: 106\n",
      "Attributes: {}\n",
      "Target Node: 16\n",
      "Attributes: {}\n",
      "Target Node: 178\n",
      "Attributes: {}\n",
      "Target Node: 22\n",
      "Attributes: {}\n",
      "Target Node: 41\n",
      "Attributes: {}\n",
      "Target Node: 18\n",
      "Attributes: {}\n",
      "Target Node: 68\n",
      "Attributes: {}\n",
      "Target Node: 110\n",
      "Attributes: {}\n",
      "Target Node: 236\n",
      "Attributes: {}\n",
      "Target Node: 56\n",
      "Attributes: {}\n",
      "Target Node: 182\n",
      "Attributes: {}\n",
      "Target Node: 249\n",
      "Attributes: {}\n"
     ]
    }
   ],
   "source": [
    "# Access the first edge using G[0]\n",
    "first_edge = G[0]\n",
    "\n",
    "# Loop through the keys (target nodes) and their attributes\n",
    "for target_node, attributes in first_edge.items():\n",
    "    print(\"Target Node:\", target_node)\n",
    "    print(\"Attributes:\", attributes)"
   ]
  },
  {
   "cell_type": "code",
   "execution_count": 5,
   "metadata": {},
   "outputs": [
    {
     "name": "stdout",
     "output_type": "stream",
     "text": [
      "tensor([[  0,   0,   0,  ..., 310, 319, 329],\n",
      "        [  1,  31,   8,  ..., 311, 320, 330]], dtype=torch.int32)\n"
     ]
    }
   ],
   "source": [
    "print(data.edge_index)"
   ]
  },
  {
   "cell_type": "code",
   "execution_count": 6,
   "metadata": {},
   "outputs": [
    {
     "name": "stdout",
     "output_type": "stream",
     "text": [
      "{'authorID_766cb_53c75_3baed_ac5dc_78259': 0, 'authorID_9a049_b03f6_fc40b_fcf2f_13632': 1, 'authorID_5f9c4_ab08c_ac745_7e911_1a30e': 2, 'authorID_1c6c0_bb2c7_ecdc3_be8e1_34f79': 3, 'authorID_c76b4_05781_134be_1dab7_fe45a': 4, 'authorID_b7a56_873cd_771f2_c446d_369b6': 5, 'authorID_624b6_0c58c_9d8bf_b6ff1_886c2': 6, 'authorID_7f0a2_2117f_8fe01_72cf9_209ff': 7, 'authorID_27bad_c983d_f1780_b60c2_b3fa9': 8, 'authorID_4c970_004b0_678d4_39f17_7e77d': 9, 'authorID_74806_4be03_a08df_81e31_bd6f9': 10, 'authorID_d2f48_3672c_0239f_6d7dd_3c9ec': 11, 'authorID_8bd9c_0d453_53375_7387e_d019c': 12, 'authorID_aae02_12936_2d611_717b6_c00ad': 13, 'authorID_377ad_eb4cd_4096a_dc7ca_64b53': 14, 'authorID_3fdba_35f04_dc8c4_62986_c992b': 15, 'authorID_d6e5a_20b30_f8721_6b2c7_58f5e': 16, 'authorID_49d18_0ecf5_61328_19571_bf39d': 17, 'authorID_6f4b6_61212_5fb3a_0daec_d2799': 18, 'authorID_81b8a_03f97_e8787_c53fe_1a86b': 19, 'authorID_44c80_31cb0_36a73_50d8b_9b860': 20, 'authorID_5ef6f_df325_13aa7_cd11f_72bec': 21, 'authorID_1be00_34108_2e25c_4e251_ca671': 22, 'authorID_d874e_4e4a5_df211_73b0f_83e31': 23, 'authorID_f57e5_cb1f4_532c0_08183_057ec': 24, 'authorID_0fd42_b3f73_c448b_34940_b339f': 25, 'authorID_ef2d1_27de3_7b942_baad0_6145e': 26, 'authorID_da70d_fa4d9_f95ac_979f9_21e8e': 27, 'authorID_81178_6ad1a_e74ad_fdd20_dd037': 28, 'authorID_29db0_c6782_dbd50_00559_ef4d9': 29, 'authorID_0fecf_9247f_3ddc8_4db8a_804fa': 30, 'authorID_3038b_fb575_bee6a_0e619_45eff': 31, 'authorID_4e074_08562_bedb8_b60ce_05c1d': 32, 'authorID_d4ee9_f58e5_86057_4ca98_e3b48': 33, 'authorID_f10d9_1a759_6bf5a_67735_79ff1': 34, 'authorID_c75d3_f1f5b_cd691_4d033_1ce5e': 35, 'authorID_7688b_6ef52_55596_2d008_fff89': 36, 'authorID_9e11c_362bc_3d357_2970b_973d5': 37, 'authorID_36ebe_205bc_dfc49_9a25e_6923f': 38, 'authorID_79bf0_8685d_3138f_9b109_c3546': 39, 'authorID_d48ff_4b2f6_8a10f_d7c86_f185a': 40, 'authorID_71047_41a92_e73eb_6c5d6_9cd04': 41, 'authorID_84a50_92e4a_5b6fe_968fd_523fb': 42, 'authorID_c8376_49cce_43f27_29138_e72cc': 43, 'authorID_c2356_069e9_d1e79_ca924_37815': 44, 'authorID_14063_69760_3e22d_600d3_36bee': 45, 'authorID_30883_1041e_a4863_c3f87_d222c': 46, 'authorID_9f484_139a2_7415a_e2e86_12bf6': 47, 'authorID_82416_49609_f88cc_d2a0a_5b233': 48, 'authorID_e3d6c_4d459_9e008_82384_ca981': 49, 'authorID_48449_a14a4_ff7d7_9bb7a_1b6f3': 50, 'authorID_a0d17_7b496_7a6d9_9f4ff_117de': 51, 'authorID_3635a_91e3d_a857f_7847f_68185': 52, 'authorID_454f6_3ac30_c8322_997ef_025ed': 53, 'authorID_8efbb_e9bc1_9ad2e_043c6_cdb18': 54, 'authorID_8b496_bf96b_bcc9e_5ac11_c068b': 55, 'authorID_3949a_c1596_ec771_06a70_9a618': 56, 'authorID_a46e3_7632f_a6ca5_1a13f_e39a5': 57, 'authorID_61a22_9bae1_e9033_1edd9_86b6b': 58, 'authorID_d59ec_ed1de_d07f8_4c145_592f6': 59, 'authorID_734d0_759cd_b4e0d_0a35e_4fd73': 60, 'authorID_02384_9c389_25e2a_f028a_2eb4e': 61, 'authorID_bb668_ca955_63216_088b9_8a625': 62, 'authorID_6c658_ee83f_b7e81_24824_94f3e': 63, 'authorID_b4944_c6ff0_8dc6f_43da2_e9c82': 64, 'authorID_76ebd_b6d45_c61ca_12e62_2118c': 65, 'authorID_85daa_f6f70_55cd5_73628_7faed': 66, 'authorID_56f4d_a26ed_95673_0309f_a1488': 67, 'authorID_27d71_9c754_aacd4_92a6d_c8a1b': 68, 'authorID_3e1e9_67e9b_793e9_08f8e_ae83c': 69, 'authorID_2747b_7c718_564ba_5f066_f0523': 70, 'authorID_0bba8_69d7f_392cb_caca6_b8935': 71, 'authorID_98010_bd927_0f9b1_00b62_14a21': 72, 'authorID_e888a_676e1_926d0_c08b5_f11fb': 73, 'authorID_d6061_bbee6_cf13b_d7376_5faae': 74, 'authorID_cba28_b89eb_85949_7f544_956d6': 75, 'authorID_ec2e9_90b93_4dde5_5cb87_30062': 76, 'authorID_09895_de040_7bcb0_38673_3daa1': 77, 'authorID_6aac0_cf87a_32e63_15361_22c3f': 78, 'authorID_38d66_d9692_ac590_000a9_1b03a': 79, 'authorID_983bd_614bb_5afec_e5ab3_b6023': 80, 'authorID_fc56d_bc6d4_652b3_15b86_b71c8': 81, 'authorID_9512d_95d00_d61bd_ec03d_2b99d': 82, 'authorID_5426d_2ca50_f244f_b43fe_9eafc': 83, 'authorID_16dc3_68a89_b428b_24854_84313': 84, 'authorID_f3282_8acec_b4282_c87ea_a554d': 85, 'authorID_7559c_a4a95_7c8c8_2ba04_781cd': 86, 'authorID_7b697_59630_f869f_27238_75f87': 87, 'authorID_02d20_bbd7e_394ad_5999a_4ceba': 88, 'authorID_1e472_b39b1_05d34_9bcd0_69c4a': 89, 'authorID_8ae4c_23b80_d1e7c_8ff79_e515f': 90, 'authorID_4c15f_47afe_7f817_fd559_e12dd': 91, 'authorID_87226_16204_217ed_db39e_7df96': 92, 'authorID_058d5_d43bf_485bf_78dda_1ed4e': 93, 'authorID_68519_a9eca_55c68_c7265_8a2a1': 94, 'authorID_fa2b7_af0a8_11b9a_cde60_2aacb': 95, 'authorID_1038e_0b72d_98745_fac0f_b015f': 96, 'authorID_19581_e27de_7ced0_0ff1c_e50b2': 97, 'authorID_09343_4a3ee_9e0a0_10bb2_c2aae': 98, 'authorID_4621c_1d55f_a4e86_ce0da_e4288': 99, 'authorID_b17ef_6d19c_7a5b1_ee83b_907c5': 100, 'authorID_a665a_45920_422f9_d417e_4867e': 101, 'authorID_9b871_51232_7c09c_e91dd_649b3': 102, 'authorID_835d5_e8314_340ab_852a2_f979a': 103, 'authorID_2c7d5_490e6_05083_6f8f2_f0d49': 104, 'authorID_eb1e3_3e8a8_1b697_b7585_5af6b': 105, 'authorID_33512_00784_0ced1_bb0aa_b68f4': 106, 'authorID_07919_63ca2_667a2_3cf32_68ad2': 107, 'authorID_620c9_c3321_01a5b_ae955_c66ae': 108, 'authorID_2ac87_8b0e2_18061_6993b_4b6aa': 109, 'authorID_768b8_4ef05_f655d_57fe2_2d488': 110, 'authorID_f0bc3_18fb8_965ca_d8d73_d578c': 111, 'authorID_7b1a2_78f5a_be8e9_da907_fc9c2': 112, 'authorID_6b86b_273ff_34fce_19d6b_804ef': 113, 'authorID_5a39c_add1b_00709_3db50_74479': 114, 'authorID_28117_45d7b_8d887_4f6e6_53d17': 115, 'authorID_39fa9_ec190_eee7b_6f4df_f1100': 116, 'authorID_02e62_95d8f_52284_0f09b_5194b': 117, 'authorID_9cfd3_c755b_e26b4_e1645_918e2': 118, 'authorID_65a69_9905c_02619_370bc_f9207': 119, 'authorID_79026_99be4_2c8a8_e46fb_bb450': 120, 'authorID_524b2_d27a1_e7fbc_3a161_4fa66': 121, 'authorID_bdd2d_3af3a_5a121_3497d_4f1f7': 122, 'authorID_01d54_579da_446ae_1e75c_da808': 123, 'authorID_96807_6be2e_38cf8_97d4d_6cea3': 124, 'authorID_67e9c_3aceb_b154a_282f3_26d4f': 125, 'authorID_71812_7812c_05853_f0bec_61582': 126, 'authorID_e0850_a775c_17a87_060c0_cf6ef': 127, 'authorID_9400f_1b21c_b527d_7fa3d_3eabb': 128, 'authorID_dac53_c17c2_50fd4_d4d81_eaf6d': 129, 'authorID_a0f8b_2c4cb_1ac82_abdb3_7f0fe': 130, 'authorID_8cd25_10271_575d8_430c0_53683': 131, 'authorID_a2185_5da08_cb102_d1d21_7c53d': 132, 'authorID_535fa_30d7e_25dd8_a49f1_53677': 133, 'authorID_0e652_38108_56a13_8a75d_ec70a': 134, 'authorID_dfe62_e836a_0a6f2_63342_2230c': 135, 'authorID_4be84_111a6_13654_b3624_15e56': 136, 'authorID_d6f0c_71ef0_c88e4_5e4b3_a2118': 137, 'authorID_6affd_ae3b3_c1aa6_aa768_9e9b6': 138, 'authorID_f369c_b89fc_627e6_68987_007d1': 139, 'authorID_2858d_cd105_7d3ea_e7f7d_5f782': 140, 'authorID_ea5b2_7556f_bb134_def2c_2fbf9': 141, 'authorID_b4bbe_448fd_e336b_b6a7d_7d765': 142, 'authorID_138d9_e809e_386a7_b8007_91d1f': 143, 'authorID_35135_aaa6c_c2389_1b40c_b3f37': 144, 'authorID_482d9_673cf_ee5de_391f9_7fde4': 145, 'authorID_52f11_620e3_97f86_7b7d9_f19e4': 146, 'authorID_922c7_95421_6ccfe_7a61d_ef609': 147, 'authorID_88820_46218_0e5c8_93eff_2ed73': 148, 'authorID_ff2cc_b6ba4_23d35_6bd54_9ed4b': 149, 'authorID_43c72_7ee4f_c7250_574d2_ef90c': 150, 'authorID_8bcbb_4c131_df56f_7c790_66016': 151, 'authorID_98a3a_b7c34_0e8a0_33e7b_37b6e': 152, 'authorID_a30f4_ef421_76d28_f0e22_93533': 153, 'authorID_8df66_f64b5_74243_91d36_3fd6b': 154, 'authorID_8acc2_3987b_8960d_83c44_541f9': 155, 'authorID_23973_46b45_823e0_70f6f_c72ac': 156, 'authorID_bbb96_5ab0c_80d65_38cf2_184ba': 157, 'authorID_a0eae_c5a55_dc2f5_b2ba5_23018': 158, 'authorID_031b4_af519_7ec30_a926f_48cf4': 159, 'authorID_8c1f1_04621_9ddd2_16a02_3f792': 160, 'authorID_6af1f_692e9_496c6_d0b66_8316e': 161, 'authorID_210e3_b160c_35581_85094_25b9d': 162, 'authorID_5ec1a_0c99d_42860_1ce42_b407a': 163, 'authorID_8b940_be7fb_78aaa_6b656_7dd7a': 164, 'authorID_96061_e92f5_8e4bd_cdee7_3df36': 165, 'authorID_23c65_7f2ef_da773_1a3c1_990b2': 166, 'authorID_f7478_70ae6_66c39_b589f_57785': 167, 'authorID_67067_1cd97_40415_6226e_50797': 168, 'authorID_dbb1d_ed63b_c7073_2626c_5dfe6': 169, 'authorID_a68b4_12c42_82555_f1554_6cf6e': 170, 'authorID_0f8ef_3377b_30fc4_7f96b_48247': 171, 'authorID_7045d_16ae7_f043e_c2577_4a0a8': 172, 'authorID_fc95c_e1766_03e9e_1d1ff_ee390': 173, 'authorID_1253e_9373e_781b7_50026_6caa5': 174, 'authorID_0a5b0_46d07_f6f97_1b777_6de68': 175, 'authorID_4a44d_c1536_4204a_80fe8_0e903': 176, 'authorID_bc52d_d6342_77c4a_34a2d_62109': 177, 'authorID_5d389_f5e2e_34c6b_0bad9_6581c': 178, 'authorID_da4ea_2a550_6f269_3eae1_90d93': 179, 'authorID_c75cb_66ae2_8d8eb_c6ede_d002c': 180, 'authorID_3ada9_2f28b_4ceda_38562_ebf04': 181, 'authorID_7ed8f_0f3b7_07956_d9fb1_e889e': 182, 'authorID_d8d17_90737_d57ac_4fe91_a2c0a': 183, 'authorID_13671_077b6_6a298_74a25_78b52': 184, 'authorID_1e68e_d4e3d_58a51_096a7_feea3': 185, 'authorID_37c20_f19f3_272b5_ccc3a_5d805': 186, 'authorID_785f3_ec7eb_32f30_b90cd_0fcf3': 187, 'authorID_71a1c_003a2_b855d_85582_c8f6c': 188, 'authorID_9537f_32ec7_599e1_ae953_af6c9': 189, 'authorID_89aa1_e5800_23722_db676_46e81': 190, 'authorID_04306_6daf2_10952_3a749_0d4bf': 191, 'authorID_3a1df_b05d7_25753_0e634_92336': 192, 'authorID_58081_1fa95_269f3_ecd4f_22d17': 193, 'authorID_24529_84f72_ef119_5df62_ab3f2': 194, 'authorID_4b227_777d4_dd1fc_61c6f_884f4': 195, 'authorID_38b83_caefa_1ef26_940f1_d07bd': 196, 'authorID_96442_94ac4_ffb30_91eef_01219': 197, 'authorID_48a17_06eca_5ee61_48f74_8ca91': 198, 'authorID_28dae_7c8bd_e2f3c_a608f_86d0e': 199, 'authorID_59e19_706d5_1d39f_66711_c2653': 200, 'authorID_3d914_f9348_c9cc0_ff8a7_97167': 201, 'authorID_a4e98_7d175_84557_e2fbe_d011c': 202, 'authorID_8527a_891e2_24136_950ff_32ca2': 203, 'authorID_8f1f6_4db81_c40ea_10e1e_9080c': 204, 'authorID_38b2d_03f32_56502_b1e9d_b02b2': 205, 'authorID_86573_6a1c3_0a82d_c67ab_a8203': 206, 'authorID_802b9_06a18_591ea_d8a6d_d809b': 207, 'authorID_dbae7_72db2_9058a_88f9b_d830e': 208, 'authorID_3c152_85c04_fff40_024bb_8714b': 209, 'authorID_f6e0a_1e2ac_41945_a9aa7_ff8a8': 210, 'authorID_af180_e4359_fc617_9dc95_3abdc': 211, 'authorID_6d976_934be_74941_fba57_8b143': 212, 'authorID_f5ca3_8f748_a1d6e_af726_b8a42': 213, 'authorID_d4735_e3a26_5e16e_ee03f_59718': 214, 'authorID_05ada_863a4_cf966_0fd8c_68e22': 215, 'authorID_9ae2b_dd7be_edc2e_766c6_b7658': 216, 'authorID_08490_29548_8a118_90997_51ebe': 217, 'authorID_349c4_1201b_62db8_51192_665c5': 218, 'authorID_5966a_bd0cb_fc86f_98a18_6531b': 219, 'authorID_8d1ed_e4f88_9e0ed_6f082_3d8c1': 220, 'authorID_76a50_887d8_f1c2e_93017_55428': 221, 'authorID_5d8f6_cce53_2a7ae_b5719_6be62': 222, 'authorID_1a656_2590e_f19d1_045d0_6c405': 223, 'authorID_0b918_943df_0962b_c7a18_24c05': 224, 'authorID_ad573_66865_126e5_5649e_cb23a': 225, 'authorID_9d693_eeee1_d1899_cbc50_b6d45': 226, 'authorID_e5b86_1a6d8_a966d_fca7e_7341c': 227, 'authorID_79d6e_aa267_6189e_b927f_2e16a': 228, 'authorID_556d7_dc3a1_15356_350f1_f9910': 229, 'authorID_a88a7_902cb_4ef69_7ba0b_6759c': 230, 'authorID_eaa06_89a09_5d439_4a05f_b51b8': 231, 'authorID_108c9_95b95_3c8a3_55611_03e20': 232, 'authorID_45235_40f15_04cd1_7100c_4835e': 233, 'authorID_226f7_6b55a_cb497_01e06_ded1d': 234, 'authorID_d80ea_e6e96_d148b_3b2ab_bbc67': 235, 'authorID_20e9c_64c05_a54d1_99610_fb7e3': 236, 'authorID_65662_30e3a_3ce37_74c1b_bc7c1': 237, 'authorID_80c3c_d40fa_35f90_88b87_41bd8': 238, 'authorID_8d27b_a37c5_d8101_06b55_f3fd6': 239, 'authorID_71ee4_5a3c0_db9a9_865f7_313dd': 240, 'authorID_c3ea9_9f86b_2f8a7_4ef41_45bb2': 241, 'authorID_2fca3_46db6_56187_102ce_806ac': 242, 'authorID_0a2d6_43bfd_24a02_8cd23_6e765': 243, 'authorID_2cfc8_ccbd7_c0b17_61532_3b41e': 244, 'authorID_6e400_1871c_0cf27_c7634_ef1dc': 245, 'authorID_2289b_221b3_9605c_3494e_72908': 246, 'authorID_d6d82_4abba_4afde_81129_c71de': 247, 'authorID_c17ed_aae86_e4016_a583e_09858': 248, 'authorID_aea92_132c4_cbeb2_63e6a_c2bf6': 249, 'authorID_3d328_6f7cd_19074_f04e5_14b0c': 250, 'authorID_8e612_bd1f5_d132a_33957_5b8da': 251, 'authorID_36790_ecd55_c2030_dc553_685be': 252, 'authorID_37834_f2f25_762f2_3e1f7_4a531': 253, 'authorID_cd70b_ea023_f752a_0564a_bb6ed': 254, 'authorID_d6a40_31733_610bb_080d0_bfa79': 255, 'authorID_41e52_1adf8_ae7a0_f419e_e06e1': 256, 'authorID_b1556_dea32_e9d0c_dbfed_038fd': 257, 'authorID_72440_a20f5_4075a_c43f5_1a2cf': 258, 'authorID_8ede6_b2634_3305e_05c3c_0029f': 259, 'authorID_1dfac_b2ea5_a03e0_a9159_99e03': 260, 'authorID_5cf4e_26bd3_d87da_5e03f_80a43': 261, 'authorID_eb3be_230bb_d2844_b1f5d_8f2e4': 262, 'authorID_9bdb2_af679_9204a_299c6_03994': 263, 'authorID_2c624_232cd_d2217_71294_dfbb3': 264, 'authorID_684fe_39f03_758de_6a882_ae61f': 265, 'authorID_1da51_b8d8f_f98f6_a48f8_0ae79': 266, 'authorID_7c252_ab334_fb8fd_88e82_42c49': 267, 'authorID_303c8_bd558_75dda_24089_7db15': 268, 'authorID_16bad_fc620_2cb3f_8889e_0f277': 269, 'authorID_284de_502c9_84734_2318c_17d47': 270, 'authorID_eeca9_1fd43_9b6d5_e827e_8fda7': 271, 'authorID_25fc0_e7096_fc653_71820_2dc30': 272, 'authorID_ee62d_e25cc_c2b55_d3a04_95244': 273, 'authorID_011af_72a91_0ac4a_cf367_eef9e': 274, 'authorID_bba58_959c3_2abe6_88d9c_b5222': 275, 'authorID_efd96_aedf3_77e20_afd95_285a7': 276, 'authorID_39bb8_8f40d_3aa2b_2fe9d_ea67b': 277, 'authorID_43974_ed740_66b20_7c30f_fd0fe': 278, 'authorID_8d23c_f6c86_e834a_7aa6e_ded54': 279, 'authorID_ad48f_f9941_5b2f0_07dc3_5b7eb': 280, 'authorID_e7f6c_01177_6e8db_7cd33_0b541': 281, 'authorID_15609_1ee08_84f36_de983_6d58b': 282, 'authorID_6208e_f0f77_50c11_1548c_f90b6': 283, 'authorID_73d3f_1ba06_2585b_ce51f_77d70': 284, 'authorID_314f0_4b30f_62e00_56bd0_59354': 285, 'authorID_1d28c_12056_8c10e_19b9d_8abe8': 286, 'authorID_02cca_3803b_564ed_e11cc_f9f30': 287, 'authorID_434c9_b5ae5_14646_bbd91_b5003': 288, 'authorID_9e6a7_2557a_da15d_02001_f024f': 289, 'authorID_bfa76_34640_c53da_7cb5e_9c390': 290, 'authorID_c75de_23d89_df36b_a9212_87616': 291, 'authorID_4a859_6a779_0b5ca_9e067_da401': 292, 'authorID_e0f05_da93a_0f5a8_6a3be_5fc0e': 293, 'authorID_69f59_c273b_6e669_ac32a_6dd5e': 294, 'authorID_30684_30da9_e4b7a_67418_40356': 295, 'authorID_2abac_a4911_e68fa_9bfbf_3482e': 296, 'authorID_396f8_04443_82558_6c128_3a27f': 297, 'authorID_5316c_a1c5d_dca8e_6cecc_fce58': 298, 'authorID_a4e00_d7e6a_a8211_15754_38c5e': 299, 'authorID_f74ef_abef1_2ea61_9e30b_79bdd': 300, 'authorID_3f980_7cb9a_e9fb6_c3094_2af61': 301, 'authorID_1d0eb_ea552_eb43d_0b1e1_561f6': 302, 'authorID_0e17d_aca5f_3e175_f448b_acace': 303, 'authorID_9556b_82499_cc0aa_f86ae_e7f0d': 304, 'authorID_7cb67_6d571_14874_e00c5_36916': 305, 'authorID_114bd_151f8_fb0c5_8642d_2170d': 306, 'authorID_e29c9_c180c_6279b_0b02a_bd6a1': 307, 'authorID_e7866_fdc66_72f82_7c76f_6124c': 308, 'authorID_00328_ce57b_bc14b_33bd6_695bc': 309, 'authorID_27e16_15212_f3c6e_a846e_d6c41': 310, 'authorID_82c01_ce15b_431d4_20eb6_a1feb': 311, 'authorID_d029f_a3a95_e174a_19934_857f5': 312, 'authorID_31489_056e0_916d5_9fe3a_dd79e': 313, 'authorID_41cfc_0d1f2_d127b_04555_b7246': 314, 'authorID_a512d_b2741_cd206_93e4b_16f19': 315, 'authorID_7f225_3d7e2_28b22_a08bd_a1f09': 316, 'authorID_090d3_859ff_6840b_2280f_4708c': 317, 'authorID_70260_742c2_95215_4c84e_2ea9f': 318, 'authorID_c0509_a487a_18b00_3ba05_e5054': 319, 'authorID_51e8e_a280b_44e16_934d4_d6119': 320, 'authorID_9f140_25af0_065b3_0e47e_23ebb': 321, 'authorID_7a203_11cf7_a4b22_2d436_42448': 322, 'authorID_3346f_2bbf6_c34bd_2dbe2_8bd1b': 323, 'authorID_b8aed_072d2_9403e_ce56a_e9641': 324, 'authorID_f8809_aff4d_69bec_e79da_be35b': 325, 'authorID_0f412_1d0ef_1df4c_86854_c7ebb': 326, 'authorID_be47a_ddbcb_8f605_66a3d_7fd5a': 327, 'authorID_ff5a1_ae012_afa5d_4c889_c50ad': 328, 'authorID_c6f3a_c5794_4a531_490cd_39902': 329, 'authorID_73475_cb40a_568e8_da8a0_45ced': 330, 'authorID_86e50_14965_86613_12a9e_0b355': 331, 'authorID_749fc_650ca_cb0f0_65475_20d53': 332}\n"
     ]
    }
   ],
   "source": [
    "print((author_to_index))"
   ]
  },
  {
   "cell_type": "code",
   "execution_count": 7,
   "metadata": {},
   "outputs": [
    {
     "data": {
      "text/plain": [
       "tensor([0., 0., 1., 1., 1., 0., 1., 0., 0., 1., 1., 0., 0., 1., 0., 0., 1., 0.,\n",
       "        0., 0., 1., 0., 0., 1., 0., 0., 1., 0., 0., 1., 1., 0., 0., 1., 0., 0.,\n",
       "        0., 1., 1., 0., 0., 0., 0., 0., 1., 1., 1., 0., 1., 1., 1., 0., 1., 0.,\n",
       "        0., 0., 1., 1., 0., 0., 0., 1., 0., 1., 0., 0., 0., 1., 1., 1., 1., 1.,\n",
       "        1., 0., 0., 1., 1., 0., 0., 1., 0., 1., 1., 0., 0., 0., 1., 0., 0., 1.,\n",
       "        0., 0., 1., 1., 1., 0., 1., 0., 0., 0., 0., 0., 0., 0., 1., 1., 0., 0.,\n",
       "        0., 0., 1., 1., 1., 1., 0., 0., 1., 0., 1., 0., 1., 1., 0., 0., 0., 0.,\n",
       "        0., 0., 1., 0., 0., 1., 0., 0., 1., 0., 0., 1., 1., 0., 1., 1., 0., 0.,\n",
       "        0., 1., 0., 1., 0., 1., 1., 0., 0., 0., 1., 1., 1., 1., 1., 0., 0., 0.,\n",
       "        0., 1., 1., 1., 1., 1., 1., 1., 0., 0., 1., 0., 1., 0., 1., 1., 0., 0.,\n",
       "        1., 1., 0., 1., 1., 1., 0., 0., 0., 1., 0., 1., 1., 0., 1., 1., 1., 1.,\n",
       "        1., 0., 1., 0., 0., 0., 1., 0., 1., 1., 0., 1., 1., 0., 0., 1., 0., 0.,\n",
       "        1., 0., 1., 1., 0., 1., 0., 1., 1., 1., 1., 1., 1., 1., 0., 0., 1., 1.,\n",
       "        0., 1., 1., 1., 0., 1., 1., 0., 0., 1., 0., 0., 1., 0., 0., 0., 1., 1.,\n",
       "        1., 0., 1., 1., 0., 0., 0., 0., 1., 1., 1., 1., 0., 0., 1., 0., 1., 0.,\n",
       "        0., 0., 0., 1., 0., 1., 0., 1., 1., 0., 0., 1., 0., 1., 0., 0., 0., 0.,\n",
       "        0., 1., 0., 1., 0., 0., 0., 1., 1., 0., 0., 0., 0., 0., 1., 0., 1., 1.,\n",
       "        1., 1., 1., 1., 0., 1., 1., 1., 1., 1., 1., 0., 1., 1., 0., 1., 1., 1.,\n",
       "        1., 0., 0., 0., 1., 1., 1., 0., 1.])"
      ]
     },
     "execution_count": 7,
     "metadata": {},
     "output_type": "execute_result"
    }
   ],
   "source": [
    "data.y"
   ]
  },
  {
   "cell_type": "code",
   "execution_count": 8,
   "metadata": {},
   "outputs": [
    {
     "name": "stdout",
     "output_type": "stream",
     "text": [
      "tensor([[0., 0., 0.,  ..., 0., 0., 0.],\n",
      "        [0., 0., 0.,  ..., 0., 1., 0.],\n",
      "        [0., 0., 0.,  ..., 0., 0., 0.],\n",
      "        ...,\n",
      "        [0., 0., 0.,  ..., 0., 0., 0.],\n",
      "        [0., 0., 0.,  ..., 0., 0., 0.],\n",
      "        [0., 0., 0.,  ..., 0., 0., 0.]])\n"
     ]
    }
   ],
   "source": [
    "print(data.x)"
   ]
  },
  {
   "cell_type": "code",
   "execution_count": 9,
   "metadata": {},
   "outputs": [
    {
     "name": "stdout",
     "output_type": "stream",
     "text": [
      "tensor([0., 0., 1., 1., 1., 0., 1., 0., 0., 1., 1., 0., 0., 1., 0., 0., 1., 0.,\n",
      "        0., 0., 1., 0., 0., 1., 0., 0., 1., 0., 0., 1., 1., 0., 0., 1., 0., 0.,\n",
      "        0., 1., 1., 0., 0., 0., 0., 0., 1., 1., 1., 0., 1., 1., 1., 0., 1., 0.,\n",
      "        0., 0., 1., 1., 0., 0., 0., 1., 0., 1., 0., 0., 0., 1., 1., 1., 1., 1.,\n",
      "        1., 0., 0., 1., 1., 0., 0., 1., 0., 1., 1., 0., 0., 0., 1., 0., 0., 1.,\n",
      "        0., 0., 1., 1., 1., 0., 1., 0., 0., 0., 0., 0., 0., 0., 1., 1., 0., 0.,\n",
      "        0., 0., 1., 1., 1., 1., 0., 0., 1., 0., 1., 0., 1., 1., 0., 0., 0., 0.,\n",
      "        0., 0., 1., 0., 0., 1., 0., 0., 1., 0., 0., 1., 1., 0., 1., 1., 0., 0.,\n",
      "        0., 1., 0., 1., 0., 1., 1., 0., 0., 0., 1., 1., 1., 1., 1., 0., 0., 0.,\n",
      "        0., 1., 1., 1., 1., 1., 1., 1., 0., 0., 1., 0., 1., 0., 1., 1., 0., 0.,\n",
      "        1., 1., 0., 1., 1., 1., 0., 0., 0., 1., 0., 1., 1., 0., 1., 1., 1., 1.,\n",
      "        1., 0., 1., 0., 0., 0., 1., 0., 1., 1., 0., 1., 1., 0., 0., 1., 0., 0.,\n",
      "        1., 0., 1., 1., 0., 1., 0., 1., 1., 1., 1., 1., 1., 1., 0., 0., 1., 1.,\n",
      "        0., 1., 1., 1., 0., 1., 1., 0., 0., 1., 0., 0., 1., 0., 0., 0., 1., 1.,\n",
      "        1., 0., 1., 1., 0., 0., 0., 0., 1., 1., 1., 1., 0., 0., 1., 0., 1., 0.,\n",
      "        0., 0., 0., 1., 0., 1., 0., 1., 1., 0., 0., 1., 0., 1., 0., 0., 0., 0.,\n",
      "        0., 1., 0., 1., 0., 0., 0., 1., 1., 0., 0., 0., 0., 0., 1., 0., 1., 1.,\n",
      "        1., 1., 1., 1., 0., 1., 1., 1., 1., 1., 1., 0., 1., 1., 0., 1., 1., 1.,\n",
      "        1., 0., 0., 0., 1., 1., 1., 0., 1.])\n",
      "tensor([[0., 0., 0.,  ..., 0., 0., 0.],\n",
      "        [0., 0., 0.,  ..., 0., 1., 0.],\n",
      "        [0., 0., 0.,  ..., 0., 0., 0.],\n",
      "        ...,\n",
      "        [0., 0., 0.,  ..., 0., 0., 0.],\n",
      "        [0., 0., 0.,  ..., 0., 0., 0.],\n",
      "        [0., 0., 0.,  ..., 0., 0., 0.]])\n",
      "Epoch 1, Loss: 0.4284\n",
      "Epoch 2, Loss: 7.5434\n",
      "Epoch 3, Loss: 1.3198\n",
      "Epoch 4, Loss: 0.4085\n",
      "Epoch 5, Loss: 1.0092\n",
      "Epoch 6, Loss: 1.0676\n",
      "Epoch 7, Loss: 0.7808\n",
      "Epoch 8, Loss: 0.5082\n",
      "Epoch 9, Loss: 0.3671\n",
      "Epoch 10, Loss: 0.3245\n",
      "Epoch 11, Loss: 0.3203\n",
      "Epoch 12, Loss: 0.3256\n",
      "Epoch 13, Loss: 0.3286\n",
      "Epoch 14, Loss: 0.3209\n",
      "Epoch 15, Loss: 0.3029\n",
      "Epoch 16, Loss: 0.3524\n",
      "Epoch 17, Loss: 0.3021\n",
      "Epoch 18, Loss: 0.2992\n",
      "Epoch 19, Loss: 0.3079\n",
      "Epoch 20, Loss: 0.3108\n",
      "Epoch 21, Loss: 0.3063\n",
      "Epoch 22, Loss: 0.2989\n",
      "Epoch 23, Loss: 0.2949\n",
      "Epoch 24, Loss: 0.2968\n",
      "Epoch 25, Loss: 0.2985\n",
      "Epoch 26, Loss: 0.2949\n",
      "Epoch 27, Loss: 0.2895\n",
      "Epoch 28, Loss: 0.2871\n",
      "Epoch 29, Loss: 0.2878\n",
      "Epoch 30, Loss: 0.2890\n",
      "Epoch 31, Loss: 0.2884\n",
      "Epoch 32, Loss: 0.2859\n",
      "Epoch 33, Loss: 0.2829\n",
      "Epoch 34, Loss: 0.2810\n",
      "Epoch 35, Loss: 0.2806\n",
      "Epoch 36, Loss: 0.2806\n",
      "Epoch 37, Loss: 0.2795\n",
      "Epoch 38, Loss: 0.2778\n",
      "Epoch 39, Loss: 0.2763\n",
      "Epoch 40, Loss: 0.2757\n",
      "Epoch 41, Loss: 0.2754\n",
      "Epoch 42, Loss: 0.2746\n",
      "Epoch 43, Loss: 0.2732\n",
      "Epoch 44, Loss: 0.2727\n",
      "Epoch 45, Loss: 0.2712\n",
      "Epoch 46, Loss: 0.2705\n",
      "Epoch 47, Loss: 0.2701\n",
      "Epoch 48, Loss: 0.2696\n",
      "Epoch 49, Loss: 0.2690\n",
      "Epoch 50, Loss: 0.2684\n",
      "Epoch 51, Loss: 0.2676\n",
      "Epoch 52, Loss: 0.2669\n",
      "Epoch 53, Loss: 0.2662\n",
      "Epoch 54, Loss: 0.2657\n",
      "Epoch 55, Loss: 0.2654\n",
      "Epoch 56, Loss: 0.2646\n",
      "Epoch 57, Loss: 0.2640\n",
      "Epoch 58, Loss: 0.2635\n",
      "Epoch 59, Loss: 0.2630\n",
      "Epoch 60, Loss: 0.2626\n",
      "Epoch 61, Loss: 0.2623\n",
      "Epoch 62, Loss: 0.2619\n",
      "Epoch 63, Loss: 0.2615\n",
      "Epoch 64, Loss: 0.2610\n",
      "Epoch 65, Loss: 0.2607\n",
      "Epoch 66, Loss: 0.2604\n",
      "Epoch 67, Loss: 0.2601\n",
      "Epoch 68, Loss: 0.2597\n",
      "Epoch 69, Loss: 0.2594\n",
      "Epoch 70, Loss: 0.2591\n",
      "Epoch 71, Loss: 0.2589\n",
      "Epoch 72, Loss: 0.2586\n",
      "Epoch 73, Loss: 0.2584\n",
      "Epoch 74, Loss: 0.2581\n",
      "Epoch 75, Loss: 0.2579\n",
      "Epoch 76, Loss: 0.2576\n",
      "Epoch 77, Loss: 0.2574\n",
      "Epoch 78, Loss: 0.2572\n",
      "Epoch 79, Loss: 0.2570\n",
      "Epoch 80, Loss: 0.2568\n",
      "Epoch 81, Loss: 0.2565\n",
      "Epoch 82, Loss: 0.2563\n",
      "Epoch 83, Loss: 0.2561\n",
      "Epoch 84, Loss: 0.2559\n",
      "Epoch 85, Loss: 0.2557\n",
      "Epoch 86, Loss: 0.2556\n",
      "Epoch 87, Loss: 0.2554\n",
      "Epoch 88, Loss: 0.2553\n",
      "Epoch 89, Loss: 0.2551\n",
      "Epoch 90, Loss: 0.2550\n",
      "Epoch 91, Loss: 0.2548\n",
      "Epoch 92, Loss: 0.2547\n",
      "Epoch 93, Loss: 0.2546\n",
      "Epoch 94, Loss: 0.2545\n",
      "Epoch 95, Loss: 0.2544\n",
      "Epoch 96, Loss: 0.2543\n",
      "Epoch 97, Loss: 0.2542\n",
      "Epoch 98, Loss: 0.2541\n",
      "Epoch 99, Loss: 0.2540\n",
      "Epoch 100, Loss: 0.2539\n",
      "Training finished!\n"
     ]
    },
    {
     "name": "stderr",
     "output_type": "stream",
     "text": [
      "c:\\bal\\balkan\\.venv\\lib\\site-packages\\torch\\nn\\modules\\loss.py:536: UserWarning: Using a target size (torch.Size([266])) that is different to the input size (torch.Size([266, 1])). This will likely lead to incorrect results due to broadcasting. Please ensure they have the same size.\n",
      "  return F.mse_loss(input, target, reduction=self.reduction)\n"
     ]
    }
   ],
   "source": [
    "import torch\n",
    "import torch.nn.functional as F\n",
    "from torch_geometric.nn import MessagePassing\n",
    "from torch_geometric.utils import add_self_loops, degree\n",
    "from torch_geometric.loader import DataLoader\n",
    "from sklearn.model_selection import train_test_split\n",
    "\n",
    "class GNNModel(torch.nn.Module):\n",
    "    def __init__(self, num_features, hidden_channels, num_classes):\n",
    "        super(GNNModel, self).__init__()\n",
    "        self.conv = GNNConv(num_features, hidden_channels)\n",
    "        self.fc = torch.nn.Linear(hidden_channels, num_classes)\n",
    "\n",
    "    def forward(self, x, edge_index):\n",
    "        x = self.conv(x, edge_index)\n",
    "        x = F.relu(x)\n",
    "        x = self.fc(x)\n",
    "        return x\n",
    "\n",
    "class GNNConv(MessagePassing):\n",
    "    def __init__(self, in_channels, out_channels):\n",
    "        super(GNNConv, self).__init__(aggr=\"add\")  # \"add\" aggregation\n",
    "        self.lin = torch.nn.Linear(in_channels, out_channels)\n",
    "\n",
    "    def forward(self, x, edge_index):\n",
    "        edge_index, _ = add_self_loops(edge_index, num_nodes=x.size(0))\n",
    "        x = self.lin(x)\n",
    "        return self.propagate(edge_index, x=x)\n",
    "\n",
    "    def message(self, x_j):\n",
    "        return x_j\n",
    "\n",
    "    def update(self, aggr_out):\n",
    "        return aggr_out\n",
    "\n",
    "torch.manual_seed(1234)\n",
    "\n",
    "num_features = data.num_node_features\n",
    "hidden_channels = 64\n",
    "num_classes = 1\n",
    "\n",
    "model = GNNModel(num_features, hidden_channels, num_classes)\n",
    "\n",
    "criterion = torch.nn.MSELoss()\n",
    "optimizer = torch.optim.Adam(model.parameters(), lr=0.01)\n",
    "\n",
    "data.train_mask = data.test_mask = None\n",
    "data.train_mask, data.test_mask = train_test_split(range(data.num_nodes), test_size=0.2)\n",
    "print(data.y)\n",
    "data.x = data.x.float()\n",
    "print(data.x)\n",
    "\n",
    "model.train()\n",
    "for epoch in range(100):\n",
    "    total_loss = 0\n",
    "    optimizer.zero_grad()\n",
    "    out = model(data.x, data.edge_index)\n",
    "    loss = criterion(out[data.train_mask], data.y[data.train_mask])\n",
    "    loss.backward()\n",
    "    optimizer.step()\n",
    "    total_loss += loss.item()\n",
    "    print(f\"Epoch {epoch + 1}, Loss: {total_loss:.4f}\")\n",
    "\n",
    "print(\"Training finished!\")\n",
    "\n",
    "torch.save(model.state_dict(), 'model.pt')\n"
   ]
  },
  {
   "cell_type": "code",
   "execution_count": 11,
   "metadata": {},
   "outputs": [],
   "source": [
    "def index_to_author( value):\n",
    "    for key, val in author_to_index.items():\n",
    "        if val == value:\n",
    "            return key"
   ]
  },
  {
   "cell_type": "code",
   "execution_count": 12,
   "metadata": {},
   "outputs": [
    {
     "name": "stdout",
     "output_type": "stream",
     "text": [
      "Rank 1: Author ID: authorID_766cb_53c75_3baed_ac5dc_78259,Likeliness: 0.2421\n",
      "Rank 2: Author ID: authorID_9a049_b03f6_fc40b_fcf2f_13632,Likeliness: 0.2562\n",
      "Rank 3: Author ID: authorID_5f9c4_ab08c_ac745_7e911_1a30e,Likeliness: 0.2778\n",
      "Rank 4: Author ID: authorID_69f59_c273b_6e669_ac32a_6dd5e,Likeliness: 0.2864\n",
      "Rank 5: Author ID: authorID_c0509_a487a_18b00_3ba05_e5054,Likeliness: 0.2864\n"
     ]
    }
   ],
   "source": [
    "import numpy as np\n",
    "\n",
    "loaded_model = GNNModel(num_features, hidden_channels, num_classes)\n",
    "loaded_model.load_state_dict(torch.load('model.pt'))\n",
    "\n",
    "\n",
    "def get_closest_coauthors(model, data, author_index, k=5):\n",
    "    original_tensor = data.x[author_index] \n",
    "    original_tensor = original_tensor.unsqueeze(0)  \n",
    "    new_tensor = torch.zeros((332, original_tensor.shape[1]))\n",
    "    temp = torch.cat((original_tensor, new_tensor), dim=0)\n",
    "\n",
    "    model.eval()\n",
    "    with torch.no_grad():\n",
    "        similarity_scores = model(temp, data.edge_index)\n",
    "\n",
    "    closest_coauthor_indices = np.argsort(similarity_scores.squeeze().numpy())[:k]\n",
    "    \n",
    "    closest_coauthor_ids = [index_to_author(index) for index in closest_coauthor_indices]\n",
    "    closest_coauthor_scores = similarity_scores.squeeze().numpy()[closest_coauthor_indices]\n",
    "\n",
    "    return closest_coauthor_indices, closest_coauthor_ids, closest_coauthor_scores\n",
    "\n",
    "author_id = 'authorID_4a44d_c1536_4204a_80fe8_0e903'\n",
    "author_index = author_to_index[author_id]\n",
    "indices, author_ids, likeliness_scores = get_closest_coauthors(loaded_model, data, author_index)\n",
    "\n",
    "for i, (author_index, author_id, score) in enumerate(zip(indices, author_ids, likeliness_scores)):\n",
    "    print(f\"Rank {i+1}: Author ID: {author_id},Likeliness: {score:.4f}\")\n"
   ]
  },
  {
   "cell_type": "markdown",
   "metadata": {},
   "source": [
    "Brute Force"
   ]
  },
  {
   "cell_type": "code",
   "execution_count": 13,
   "metadata": {},
   "outputs": [
    {
     "name": "stdout",
     "output_type": "stream",
     "text": [
      "[<Record target.author_id='authorID_84a50_92e4a_5b6fe_968fd_523fb'>, <Record target.author_id='authorID_8b940_be7fb_78aaa_6b656_7dd7a'>, <Record target.author_id='authorID_2c7d5_490e6_05083_6f8f2_f0d49'>, <Record target.author_id='authorID_1be00_34108_2e25c_4e251_ca671'>, <Record target.author_id='authorID_d874e_4e4a5_df211_73b0f_83e31'>]\n"
     ]
    }
   ],
   "source": [
    "from neo4j import GraphDatabase\n",
    "import networkx as nx\n",
    "uri = \"bolt://localhost:7687\"\n",
    "user = \"neo4j\"\n",
    "password = \"Swayam2003\"\n",
    "\n",
    "driver = GraphDatabase.driver(uri, auth=(user, password))\n",
    "author = 'authorID_9a049_b03f6_fc40b_fcf2f_13632'\n",
    "\n",
    "query1 = \"MATCH (source:Author)-[:CO_AUTHORED]->(target:Author) WHERE source.author_id = '\"+author+\"' RETURN target.author_id ORDER BY source.author_id LIMIT 5\"\n",
    "\n",
    "def run_query(query):\n",
    "    with driver.session() as session:\n",
    "        result = session.run(query)\n",
    "        records = [record for record in result]\n",
    "        return records\n",
    "\n",
    "print(run_query(query1))\n",
    "\n",
    "driver.close()\n"
   ]
  },
  {
   "cell_type": "code",
   "execution_count": null,
   "metadata": {},
   "outputs": [],
   "source": []
  }
 ],
 "metadata": {
  "kernelspec": {
   "display_name": ".venv",
   "language": "python",
   "name": "python3"
  },
  "language_info": {
   "codemirror_mode": {
    "name": "ipython",
    "version": 3
   },
   "file_extension": ".py",
   "mimetype": "text/x-python",
   "name": "python",
   "nbconvert_exporter": "python",
   "pygments_lexer": "ipython3",
   "version": "3.8.5"
  },
  "orig_nbformat": 4
 },
 "nbformat": 4,
 "nbformat_minor": 2
}
