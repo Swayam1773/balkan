{
 "cells": [
  {
   "cell_type": "code",
   "execution_count": null,
   "metadata": {},
   "outputs": [],
   "source": [
    "def index_to_author( value):\n",
    "    for key, val in author_to_index.items():\n",
    "        if val == value:\n",
    "            return key"
   ]
  },
  {
   "cell_type": "code",
   "execution_count": null,
   "metadata": {},
   "outputs": [],
   "source": [
    "import numpy as np\n",
    "\n",
    "loaded_model = GNNModel(num_features, hidden_channels, num_classes)\n",
    "loaded_model.load_state_dict(torch.load('model.pt'))\n",
    "\n",
    "\n",
    "def get_closest_coauthors(model, data, author_index, k=5):\n",
    "    original_tensor = data.x[author_index] \n",
    "    original_tensor = original_tensor.unsqueeze(0)  \n",
    "    new_tensor = torch.zeros((332, original_tensor.shape[1]))\n",
    "    temp = torch.cat((original_tensor, new_tensor), dim=0)\n",
    "\n",
    "    model.eval()\n",
    "    with torch.no_grad():\n",
    "        similarity_scores = model(temp, data.edge_index)\n",
    "\n",
    "    closest_coauthor_indices = np.argsort(similarity_scores.squeeze().numpy())[:k]\n",
    "    \n",
    "    closest_coauthor_ids = [index_to_author(index) for index in closest_coauthor_indices]\n",
    "    closest_coauthor_scores = similarity_scores.squeeze().numpy()[closest_coauthor_indices]\n",
    "\n",
    "    return closest_coauthor_indices, closest_coauthor_ids, closest_coauthor_scores\n",
    "\n",
    "author_id = 'authorID_4a44d_c1536_4204a_80fe8_0e903'\n",
    "author_index = author_to_index[author_id]\n",
    "indices, author_ids, likeliness_scores = get_closest_coauthors(loaded_model, data, author_index)\n",
    "\n",
    "for i, (author_index, author_id, score) in enumerate(zip(indices, author_ids, likeliness_scores)):\n",
    "    print(f\"Rank {i+1}: Author_ID: {author_id},Likeliness: {score:.4f}\")\n"
   ]
  }
 ],
 "metadata": {
  "language_info": {
   "name": "python"
  },
  "orig_nbformat": 4
 },
 "nbformat": 4,
 "nbformat_minor": 2
}
